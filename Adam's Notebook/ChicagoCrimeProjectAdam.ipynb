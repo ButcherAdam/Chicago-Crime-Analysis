{
 "cells": [
  {
   "cell_type": "code",
   "execution_count": 1,
   "metadata": {},
   "outputs": [
    {
     "name": "stderr",
     "output_type": "stream",
     "text": [
      "C:\\Users\\adamb\\AppData\\Local\\Continuum\\anaconda3\\lib\\site-packages\\sklearn\\externals\\six.py:31: DeprecationWarning: The module is deprecated in version 0.21 and will be removed in version 0.23 since we've dropped support for Python 2.7. Please rely on the official version of six (https://pypi.org/project/six/).\n",
      "  \"(https://pypi.org/project/six/).\", DeprecationWarning)\n",
      "C:\\Users\\adamb\\AppData\\Local\\Continuum\\anaconda3\\lib\\site-packages\\sklearn\\externals\\joblib\\__init__.py:15: DeprecationWarning: sklearn.externals.joblib is deprecated in 0.21 and will be removed in 0.23. Please import this functionality directly from joblib, which can be installed with: pip install joblib. If this warning is raised when loading pickled models, you may need to re-serialize those models with scikit-learn 0.21+.\n",
      "  warnings.warn(msg, category=DeprecationWarning)\n"
     ]
    }
   ],
   "source": [
    "import numpy as np\n",
    "import pandas as pd\n",
    "import mglearn\n",
    "import matplotlib.pyplot as plt"
   ]
  },
  {
   "cell_type": "code",
   "execution_count": 2,
   "metadata": {},
   "outputs": [
    {
     "name": "stderr",
     "output_type": "stream",
     "text": [
      "b'Skipping line 1513591: expected 23 fields, saw 24\\n'\n",
      "C:\\Users\\adamb\\AppData\\Local\\Continuum\\anaconda3\\lib\\site-packages\\IPython\\core\\interactiveshell.py:3057: DtypeWarning: Columns (17,20) have mixed types. Specify dtype option on import or set low_memory=False.\n",
      "  interactivity=interactivity, compiler=compiler, result=result)\n"
     ]
    }
   ],
   "source": [
    "crime_2001 = pd.read_csv(\"Chicago_Crimes_2001_to_2004.csv\", error_bad_lines=False)\n"
   ]
  },
  {
   "cell_type": "code",
   "execution_count": 3,
   "metadata": {},
   "outputs": [
    {
     "name": "stderr",
     "output_type": "stream",
     "text": [
      "b'Skipping line 533719: expected 23 fields, saw 24\\n'\n"
     ]
    }
   ],
   "source": [
    "crime_2005 = pd.read_csv(\"Chicago_Crimes_2005_to_2007.csv\", error_bad_lines=False)"
   ]
  },
  {
   "cell_type": "code",
   "execution_count": 4,
   "metadata": {},
   "outputs": [
    {
     "name": "stderr",
     "output_type": "stream",
     "text": [
      "b'Skipping line 1149094: expected 23 fields, saw 41\\n'\n"
     ]
    }
   ],
   "source": [
    "crime_2008 = pd.read_csv(\"Chicago_Crimes_2008_to_2011.csv\", error_bad_lines=False)"
   ]
  },
  {
   "cell_type": "code",
   "execution_count": 5,
   "metadata": {},
   "outputs": [],
   "source": [
    "crime_2012 = pd.read_csv(\"Chicago_Crimes_2012_to_2017.csv\", error_bad_lines=False)"
   ]
  },
  {
   "cell_type": "code",
   "execution_count": 6,
   "metadata": {},
   "outputs": [],
   "source": [
    "all_crime = [crime_2001, crime_2005, crime_2008, crime_2012]"
   ]
  },
  {
   "cell_type": "code",
   "execution_count": 7,
   "metadata": {},
   "outputs": [],
   "source": [
    "all_crimes = pd.concat(all_crime)"
   ]
  },
  {
   "cell_type": "code",
   "execution_count": 8,
   "metadata": {},
   "outputs": [
    {
     "name": "stdout",
     "output_type": "stream",
     "text": [
      "(7941282, 23)\n",
      "(1923515, 23)\n",
      "(1872343, 23)\n",
      "(2688710, 23)\n",
      "(1456714, 23)\n"
     ]
    }
   ],
   "source": [
    "print(all_crimes.shape)\n",
    "print(crime_2001.shape)\n",
    "print(crime_2005.shape)\n",
    "print(crime_2008.shape)\n",
    "print(crime_2012.shape)"
   ]
  },
  {
   "cell_type": "code",
   "execution_count": 9,
   "metadata": {},
   "outputs": [],
   "source": [
    "dropped_crimes = all_crimes.drop(columns =['Case Number', 'Unnamed: 0', 'IUCR', 'FBI Code', 'Updated On', 'Latitude', 'Longitude','Location'])"
   ]
  },
  {
   "cell_type": "code",
   "execution_count": 10,
   "metadata": {},
   "outputs": [
    {
     "name": "stdout",
     "output_type": "stream",
     "text": [
      "(7941282, 23)\n",
      "(7941282, 15)\n"
     ]
    }
   ],
   "source": [
    "print(all_crimes.shape)\n",
    "print(dropped_crimes.shape)"
   ]
  },
  {
   "cell_type": "code",
   "execution_count": 11,
   "metadata": {},
   "outputs": [],
   "source": [
    "dropped_crimes = dropped_crimes.astype({'Year': 'int32'})"
   ]
  },
  {
   "cell_type": "code",
   "execution_count": 12,
   "metadata": {},
   "outputs": [
    {
     "data": {
      "text/html": [
       "<div>\n",
       "<style scoped>\n",
       "    .dataframe tbody tr th:only-of-type {\n",
       "        vertical-align: middle;\n",
       "    }\n",
       "\n",
       "    .dataframe tbody tr th {\n",
       "        vertical-align: top;\n",
       "    }\n",
       "\n",
       "    .dataframe thead th {\n",
       "        text-align: right;\n",
       "    }\n",
       "</style>\n",
       "<table border=\"1\" class=\"dataframe\">\n",
       "  <thead>\n",
       "    <tr style=\"text-align: right;\">\n",
       "      <th></th>\n",
       "      <th>ID</th>\n",
       "      <th>Date</th>\n",
       "      <th>Block</th>\n",
       "      <th>Primary Type</th>\n",
       "      <th>Description</th>\n",
       "      <th>Location Description</th>\n",
       "      <th>Arrest</th>\n",
       "      <th>Domestic</th>\n",
       "      <th>Beat</th>\n",
       "      <th>District</th>\n",
       "      <th>Ward</th>\n",
       "      <th>Community Area</th>\n",
       "      <th>X Coordinate</th>\n",
       "      <th>Y Coordinate</th>\n",
       "      <th>Year</th>\n",
       "    </tr>\n",
       "  </thead>\n",
       "  <tbody>\n",
       "    <tr>\n",
       "      <th>0</th>\n",
       "      <td>4786321</td>\n",
       "      <td>01/01/2004 12:01:00 AM</td>\n",
       "      <td>082XX S COLES AVE</td>\n",
       "      <td>THEFT</td>\n",
       "      <td>FINANCIAL ID THEFT: OVER $300</td>\n",
       "      <td>RESIDENCE</td>\n",
       "      <td>False</td>\n",
       "      <td>False</td>\n",
       "      <td>424</td>\n",
       "      <td>4.0</td>\n",
       "      <td>7.0</td>\n",
       "      <td>46.0</td>\n",
       "      <td>NaN</td>\n",
       "      <td>NaN</td>\n",
       "      <td>2004</td>\n",
       "    </tr>\n",
       "    <tr>\n",
       "      <th>1</th>\n",
       "      <td>4676906</td>\n",
       "      <td>03/01/2003 12:00:00 AM</td>\n",
       "      <td>004XX W 42ND PL</td>\n",
       "      <td>OTHER OFFENSE</td>\n",
       "      <td>HARASSMENT BY TELEPHONE</td>\n",
       "      <td>RESIDENCE</td>\n",
       "      <td>False</td>\n",
       "      <td>True</td>\n",
       "      <td>935</td>\n",
       "      <td>9.0</td>\n",
       "      <td>11.0</td>\n",
       "      <td>61.0</td>\n",
       "      <td>1173974.0</td>\n",
       "      <td>1.87676e+06</td>\n",
       "      <td>2003</td>\n",
       "    </tr>\n",
       "    <tr>\n",
       "      <th>2</th>\n",
       "      <td>4789749</td>\n",
       "      <td>06/20/2004 11:00:00 AM</td>\n",
       "      <td>025XX N KIMBALL AVE</td>\n",
       "      <td>OFFENSE INVOLVING CHILDREN</td>\n",
       "      <td>AGG CRIM SEX ABUSE FAM MEMBER</td>\n",
       "      <td>RESIDENCE</td>\n",
       "      <td>False</td>\n",
       "      <td>False</td>\n",
       "      <td>1413</td>\n",
       "      <td>14.0</td>\n",
       "      <td>35.0</td>\n",
       "      <td>22.0</td>\n",
       "      <td>NaN</td>\n",
       "      <td>NaN</td>\n",
       "      <td>2004</td>\n",
       "    </tr>\n",
       "    <tr>\n",
       "      <th>3</th>\n",
       "      <td>4789765</td>\n",
       "      <td>12/30/2004 08:00:00 PM</td>\n",
       "      <td>045XX W MONTANA ST</td>\n",
       "      <td>THEFT</td>\n",
       "      <td>FINANCIAL ID THEFT: OVER $300</td>\n",
       "      <td>OTHER</td>\n",
       "      <td>False</td>\n",
       "      <td>False</td>\n",
       "      <td>2521</td>\n",
       "      <td>25.0</td>\n",
       "      <td>31.0</td>\n",
       "      <td>20.0</td>\n",
       "      <td>NaN</td>\n",
       "      <td>NaN</td>\n",
       "      <td>2004</td>\n",
       "    </tr>\n",
       "    <tr>\n",
       "      <th>4</th>\n",
       "      <td>4677901</td>\n",
       "      <td>05/01/2003 01:00:00 AM</td>\n",
       "      <td>111XX S NORMAL AVE</td>\n",
       "      <td>THEFT</td>\n",
       "      <td>FINANCIAL ID THEFT:$300 &amp;UNDER</td>\n",
       "      <td>RESIDENCE</td>\n",
       "      <td>False</td>\n",
       "      <td>False</td>\n",
       "      <td>2233</td>\n",
       "      <td>22.0</td>\n",
       "      <td>34.0</td>\n",
       "      <td>49.0</td>\n",
       "      <td>1174948.0</td>\n",
       "      <td>1.83105e+06</td>\n",
       "      <td>2003</td>\n",
       "    </tr>\n",
       "    <tr>\n",
       "      <th>5</th>\n",
       "      <td>4838048</td>\n",
       "      <td>08/01/2004 12:01:00 AM</td>\n",
       "      <td>012XX S HARDING AVE</td>\n",
       "      <td>THEFT</td>\n",
       "      <td>FINANCIAL ID THEFT:$300 &amp;UNDER</td>\n",
       "      <td>APARTMENT</td>\n",
       "      <td>False</td>\n",
       "      <td>False</td>\n",
       "      <td>1011</td>\n",
       "      <td>10.0</td>\n",
       "      <td>24.0</td>\n",
       "      <td>29.0</td>\n",
       "      <td>NaN</td>\n",
       "      <td>NaN</td>\n",
       "      <td>2004</td>\n",
       "    </tr>\n",
       "    <tr>\n",
       "      <th>6</th>\n",
       "      <td>4791194</td>\n",
       "      <td>01/01/2001 11:00:00 AM</td>\n",
       "      <td>114XX S ST LAWRENCE AVE</td>\n",
       "      <td>CRIM SEXUAL ASSAULT</td>\n",
       "      <td>PREDATORY</td>\n",
       "      <td>RESIDENCE</td>\n",
       "      <td>True</td>\n",
       "      <td>True</td>\n",
       "      <td>531</td>\n",
       "      <td>5.0</td>\n",
       "      <td>9.0</td>\n",
       "      <td>50.0</td>\n",
       "      <td>1182247.0</td>\n",
       "      <td>1.82938e+06</td>\n",
       "      <td>2001</td>\n",
       "    </tr>\n",
       "    <tr>\n",
       "      <th>7</th>\n",
       "      <td>4679521</td>\n",
       "      <td>03/15/2003 12:00:00 AM</td>\n",
       "      <td>090XX S RACINE AVE</td>\n",
       "      <td>OTHER OFFENSE</td>\n",
       "      <td>OTHER WEAPONS VIOLATION</td>\n",
       "      <td>RESIDENCE PORCH/HALLWAY</td>\n",
       "      <td>False</td>\n",
       "      <td>False</td>\n",
       "      <td>2222</td>\n",
       "      <td>22.0</td>\n",
       "      <td>21.0</td>\n",
       "      <td>73.0</td>\n",
       "      <td>1169911.0</td>\n",
       "      <td>1.84483e+06</td>\n",
       "      <td>2003</td>\n",
       "    </tr>\n",
       "    <tr>\n",
       "      <th>8</th>\n",
       "      <td>4792195</td>\n",
       "      <td>09/16/2004 10:00:00 AM</td>\n",
       "      <td>003XX W HUBBARD ST</td>\n",
       "      <td>THEFT</td>\n",
       "      <td>FROM BUILDING</td>\n",
       "      <td>RESIDENCE</td>\n",
       "      <td>False</td>\n",
       "      <td>False</td>\n",
       "      <td>1831</td>\n",
       "      <td>18.0</td>\n",
       "      <td>42.0</td>\n",
       "      <td>8.0</td>\n",
       "      <td>NaN</td>\n",
       "      <td>NaN</td>\n",
       "      <td>2004</td>\n",
       "    </tr>\n",
       "    <tr>\n",
       "      <th>9</th>\n",
       "      <td>4680124</td>\n",
       "      <td>01/01/2003 12:00:00 AM</td>\n",
       "      <td>009XX S SPAULDING AVE</td>\n",
       "      <td>THEFT</td>\n",
       "      <td>FINANCIAL ID THEFT: OVER $300</td>\n",
       "      <td>RESIDENCE</td>\n",
       "      <td>False</td>\n",
       "      <td>False</td>\n",
       "      <td>1134</td>\n",
       "      <td>11.0</td>\n",
       "      <td>24.0</td>\n",
       "      <td>29.0</td>\n",
       "      <td>1154521.0</td>\n",
       "      <td>1.89576e+06</td>\n",
       "      <td>2003</td>\n",
       "    </tr>\n",
       "    <tr>\n",
       "      <th>10</th>\n",
       "      <td>4682244</td>\n",
       "      <td>06/05/2003 12:00:00 AM</td>\n",
       "      <td>093XX S WALLACE ST</td>\n",
       "      <td>THEFT</td>\n",
       "      <td>FINANCIAL ID THEFT: OVER $300</td>\n",
       "      <td>RESIDENCE</td>\n",
       "      <td>False</td>\n",
       "      <td>False</td>\n",
       "      <td>2223</td>\n",
       "      <td>22.0</td>\n",
       "      <td>21.0</td>\n",
       "      <td>73.0</td>\n",
       "      <td>1173946.0</td>\n",
       "      <td>1.8429e+06</td>\n",
       "      <td>2003</td>\n",
       "    </tr>\n",
       "    <tr>\n",
       "      <th>11</th>\n",
       "      <td>4795453</td>\n",
       "      <td>11/01/2004 12:01:00 AM</td>\n",
       "      <td>058XX N WINTHROP AVE</td>\n",
       "      <td>THEFT</td>\n",
       "      <td>FINANCIAL ID THEFT: OVER $300</td>\n",
       "      <td>RESIDENCE</td>\n",
       "      <td>False</td>\n",
       "      <td>False</td>\n",
       "      <td>2022</td>\n",
       "      <td>20.0</td>\n",
       "      <td>48.0</td>\n",
       "      <td>77.0</td>\n",
       "      <td>NaN</td>\n",
       "      <td>NaN</td>\n",
       "      <td>2004</td>\n",
       "    </tr>\n",
       "    <tr>\n",
       "      <th>12</th>\n",
       "      <td>4684808</td>\n",
       "      <td>01/01/2003 12:00:00 AM</td>\n",
       "      <td>060XX S KEELER AVE</td>\n",
       "      <td>THEFT</td>\n",
       "      <td>FINANCIAL ID THEFT: OVER $300</td>\n",
       "      <td>RESIDENCE</td>\n",
       "      <td>False</td>\n",
       "      <td>False</td>\n",
       "      <td>813</td>\n",
       "      <td>8.0</td>\n",
       "      <td>13.0</td>\n",
       "      <td>65.0</td>\n",
       "      <td>1149407.0</td>\n",
       "      <td>1.86416e+06</td>\n",
       "      <td>2003</td>\n",
       "    </tr>\n",
       "    <tr>\n",
       "      <th>13</th>\n",
       "      <td>4800321</td>\n",
       "      <td>11/01/2004 12:00:00 AM</td>\n",
       "      <td>026XX E 78TH ST</td>\n",
       "      <td>THEFT</td>\n",
       "      <td>FINANCIAL ID THEFT: OVER $300</td>\n",
       "      <td>RESIDENCE</td>\n",
       "      <td>False</td>\n",
       "      <td>False</td>\n",
       "      <td>421</td>\n",
       "      <td>4.0</td>\n",
       "      <td>7.0</td>\n",
       "      <td>43.0</td>\n",
       "      <td>NaN</td>\n",
       "      <td>NaN</td>\n",
       "      <td>2004</td>\n",
       "    </tr>\n",
       "    <tr>\n",
       "      <th>14</th>\n",
       "      <td>4686904</td>\n",
       "      <td>11/01/2003 08:00:00 AM</td>\n",
       "      <td>034XX S PAULINA ST</td>\n",
       "      <td>THEFT</td>\n",
       "      <td>FINANCIAL ID THEFT: OVER $300</td>\n",
       "      <td>RESIDENCE</td>\n",
       "      <td>False</td>\n",
       "      <td>False</td>\n",
       "      <td>922</td>\n",
       "      <td>9.0</td>\n",
       "      <td>11.0</td>\n",
       "      <td>59.0</td>\n",
       "      <td>1165579.0</td>\n",
       "      <td>1.88189e+06</td>\n",
       "      <td>2003</td>\n",
       "    </tr>\n",
       "    <tr>\n",
       "      <th>15</th>\n",
       "      <td>4687321</td>\n",
       "      <td>11/15/2003 09:00:00 AM</td>\n",
       "      <td>033XX W 63RD ST</td>\n",
       "      <td>THEFT</td>\n",
       "      <td>FINANCIAL ID THEFT: OVER $300</td>\n",
       "      <td>APARTMENT</td>\n",
       "      <td>False</td>\n",
       "      <td>False</td>\n",
       "      <td>823</td>\n",
       "      <td>8.0</td>\n",
       "      <td>15.0</td>\n",
       "      <td>66.0</td>\n",
       "      <td>1155257.0</td>\n",
       "      <td>1.86265e+06</td>\n",
       "      <td>2003</td>\n",
       "    </tr>\n",
       "    <tr>\n",
       "      <th>16</th>\n",
       "      <td>4688004</td>\n",
       "      <td>01/02/2003 08:00:00 AM</td>\n",
       "      <td>035XX W WABANSIA AVE</td>\n",
       "      <td>THEFT</td>\n",
       "      <td>FINANCIAL ID THEFT: OVER $300</td>\n",
       "      <td>RESIDENCE</td>\n",
       "      <td>False</td>\n",
       "      <td>False</td>\n",
       "      <td>1422</td>\n",
       "      <td>14.0</td>\n",
       "      <td>26.0</td>\n",
       "      <td>23.0</td>\n",
       "      <td>1152348.0</td>\n",
       "      <td>1.91106e+06</td>\n",
       "      <td>2003</td>\n",
       "    </tr>\n",
       "    <tr>\n",
       "      <th>17</th>\n",
       "      <td>4803028</td>\n",
       "      <td>01/01/2001 12:00:00 AM</td>\n",
       "      <td>055XX S TRIPP AVE</td>\n",
       "      <td>OFFENSE INVOLVING CHILDREN</td>\n",
       "      <td>SEX ASSLT OF CHILD BY FAM MBR</td>\n",
       "      <td>RESIDENCE</td>\n",
       "      <td>True</td>\n",
       "      <td>False</td>\n",
       "      <td>813</td>\n",
       "      <td>8.0</td>\n",
       "      <td>13.0</td>\n",
       "      <td>62.0</td>\n",
       "      <td>1149024.0</td>\n",
       "      <td>1.8672e+06</td>\n",
       "      <td>2001</td>\n",
       "    </tr>\n",
       "    <tr>\n",
       "      <th>18</th>\n",
       "      <td>4803606</td>\n",
       "      <td>01/01/2001 12:00:00 AM</td>\n",
       "      <td>032XX S OAKLEY AVE</td>\n",
       "      <td>THEFT</td>\n",
       "      <td>FINANCIAL ID THEFT: OVER $300</td>\n",
       "      <td>OTHER</td>\n",
       "      <td>False</td>\n",
       "      <td>False</td>\n",
       "      <td>913</td>\n",
       "      <td>9.0</td>\n",
       "      <td>12.0</td>\n",
       "      <td>59.0</td>\n",
       "      <td>1161574.0</td>\n",
       "      <td>1.88296e+06</td>\n",
       "      <td>2001</td>\n",
       "    </tr>\n",
       "    <tr>\n",
       "      <th>19</th>\n",
       "      <td>4808626</td>\n",
       "      <td>06/14/2002 04:00:00 PM</td>\n",
       "      <td>032XX W BEACH AVE</td>\n",
       "      <td>CRIM SEXUAL ASSAULT</td>\n",
       "      <td>PREDATORY</td>\n",
       "      <td>APARTMENT</td>\n",
       "      <td>False</td>\n",
       "      <td>False</td>\n",
       "      <td>1422</td>\n",
       "      <td>14.0</td>\n",
       "      <td>26.0</td>\n",
       "      <td>23.0</td>\n",
       "      <td>NaN</td>\n",
       "      <td>NaN</td>\n",
       "      <td>2002</td>\n",
       "    </tr>\n",
       "    <tr>\n",
       "      <th>20</th>\n",
       "      <td>4809221</td>\n",
       "      <td>06/16/2001 08:00:00 AM</td>\n",
       "      <td>063XX S DAMEN AVE</td>\n",
       "      <td>OFFENSE INVOLVING CHILDREN</td>\n",
       "      <td>AGG SEX ASSLT OF CHILD FAM MBR</td>\n",
       "      <td>RESIDENCE</td>\n",
       "      <td>True</td>\n",
       "      <td>False</td>\n",
       "      <td>726</td>\n",
       "      <td>7.0</td>\n",
       "      <td>15.0</td>\n",
       "      <td>67.0</td>\n",
       "      <td>1164076.0</td>\n",
       "      <td>1.86258e+06</td>\n",
       "      <td>2001</td>\n",
       "    </tr>\n",
       "    <tr>\n",
       "      <th>21</th>\n",
       "      <td>4809407</td>\n",
       "      <td>01/01/2004 12:00:00 AM</td>\n",
       "      <td>001XX W RANDOLPH ST</td>\n",
       "      <td>THEFT</td>\n",
       "      <td>FINANCIAL ID THEFT: OVER $300</td>\n",
       "      <td>APARTMENT</td>\n",
       "      <td>False</td>\n",
       "      <td>False</td>\n",
       "      <td>113</td>\n",
       "      <td>1.0</td>\n",
       "      <td>42.0</td>\n",
       "      <td>32.0</td>\n",
       "      <td>NaN</td>\n",
       "      <td>NaN</td>\n",
       "      <td>2004</td>\n",
       "    </tr>\n",
       "    <tr>\n",
       "      <th>22</th>\n",
       "      <td>4695836</td>\n",
       "      <td>10/31/2003 02:00:00 PM</td>\n",
       "      <td>067XX S ASHLAND AVE</td>\n",
       "      <td>MOTOR VEHICLE THEFT</td>\n",
       "      <td>AUTOMOBILE</td>\n",
       "      <td>GAS STATION</td>\n",
       "      <td>False</td>\n",
       "      <td>False</td>\n",
       "      <td>725</td>\n",
       "      <td>7.0</td>\n",
       "      <td>15.0</td>\n",
       "      <td>67.0</td>\n",
       "      <td>1166831.0</td>\n",
       "      <td>1.86012e+06</td>\n",
       "      <td>2003</td>\n",
       "    </tr>\n",
       "    <tr>\n",
       "      <th>23</th>\n",
       "      <td>4696148</td>\n",
       "      <td>01/01/2003 09:00:00 AM</td>\n",
       "      <td>081XX S ALBANY AVE</td>\n",
       "      <td>THEFT</td>\n",
       "      <td>FINANCIAL ID THEFT: OVER $300</td>\n",
       "      <td>RESIDENCE</td>\n",
       "      <td>False</td>\n",
       "      <td>False</td>\n",
       "      <td>835</td>\n",
       "      <td>8.0</td>\n",
       "      <td>18.0</td>\n",
       "      <td>70.0</td>\n",
       "      <td>1157131.0</td>\n",
       "      <td>1.8504e+06</td>\n",
       "      <td>2003</td>\n",
       "    </tr>\n",
       "    <tr>\n",
       "      <th>24</th>\n",
       "      <td>4696401</td>\n",
       "      <td>01/01/2003 12:00:00 AM</td>\n",
       "      <td>052XX N HARLEM AVE</td>\n",
       "      <td>THEFT</td>\n",
       "      <td>OVER $500</td>\n",
       "      <td>COMMERCIAL / BUSINESS OFFICE</td>\n",
       "      <td>True</td>\n",
       "      <td>False</td>\n",
       "      <td>1613</td>\n",
       "      <td>16.0</td>\n",
       "      <td>41.0</td>\n",
       "      <td>10.0</td>\n",
       "      <td>1127354.0</td>\n",
       "      <td>1.93422e+06</td>\n",
       "      <td>2003</td>\n",
       "    </tr>\n",
       "    <tr>\n",
       "      <th>25</th>\n",
       "      <td>4811727</td>\n",
       "      <td>06/01/2001 08:00:00 AM</td>\n",
       "      <td>054XX W IOWA ST</td>\n",
       "      <td>SEX OFFENSE</td>\n",
       "      <td>CRIMINAL SEXUAL ABUSE</td>\n",
       "      <td>RESIDENCE</td>\n",
       "      <td>False</td>\n",
       "      <td>False</td>\n",
       "      <td>1524</td>\n",
       "      <td>15.0</td>\n",
       "      <td>37.0</td>\n",
       "      <td>25.0</td>\n",
       "      <td>1139668.0</td>\n",
       "      <td>1.9055e+06</td>\n",
       "      <td>2001</td>\n",
       "    </tr>\n",
       "    <tr>\n",
       "      <th>26</th>\n",
       "      <td>4699493</td>\n",
       "      <td>01/01/2003 12:00:00 PM</td>\n",
       "      <td>017XX E 71ST ST</td>\n",
       "      <td>THEFT</td>\n",
       "      <td>FINANCIAL ID THEFT: OVER $300</td>\n",
       "      <td>OTHER</td>\n",
       "      <td>False</td>\n",
       "      <td>False</td>\n",
       "      <td>324</td>\n",
       "      <td>3.0</td>\n",
       "      <td>5.0</td>\n",
       "      <td>43.0</td>\n",
       "      <td>1188978.0</td>\n",
       "      <td>1.85822e+06</td>\n",
       "      <td>2003</td>\n",
       "    </tr>\n",
       "    <tr>\n",
       "      <th>27</th>\n",
       "      <td>4815217</td>\n",
       "      <td>12/13/2004 01:00:00 PM</td>\n",
       "      <td>067XX S CORNELL AVE</td>\n",
       "      <td>DECEPTIVE PRACTICE</td>\n",
       "      <td>FRAUD OR CONFIDENCE GAME</td>\n",
       "      <td>RESIDENCE</td>\n",
       "      <td>False</td>\n",
       "      <td>False</td>\n",
       "      <td>332</td>\n",
       "      <td>3.0</td>\n",
       "      <td>5.0</td>\n",
       "      <td>43.0</td>\n",
       "      <td>NaN</td>\n",
       "      <td>NaN</td>\n",
       "      <td>2004</td>\n",
       "    </tr>\n",
       "    <tr>\n",
       "      <th>28</th>\n",
       "      <td>4815972</td>\n",
       "      <td>10/06/2004 09:00:00 AM</td>\n",
       "      <td>029XX N MASON AVE</td>\n",
       "      <td>THEFT</td>\n",
       "      <td>FINANCIAL ID THEFT:$300 &amp;UNDER</td>\n",
       "      <td>RESIDENCE</td>\n",
       "      <td>False</td>\n",
       "      <td>False</td>\n",
       "      <td>2514</td>\n",
       "      <td>25.0</td>\n",
       "      <td>30.0</td>\n",
       "      <td>19.0</td>\n",
       "      <td>NaN</td>\n",
       "      <td>NaN</td>\n",
       "      <td>2004</td>\n",
       "    </tr>\n",
       "    <tr>\n",
       "      <th>29</th>\n",
       "      <td>4817129</td>\n",
       "      <td>01/12/2004 03:00:00 PM</td>\n",
       "      <td>008XX E 80TH ST</td>\n",
       "      <td>OTHER OFFENSE</td>\n",
       "      <td>HARASSMENT BY TELEPHONE</td>\n",
       "      <td>RESIDENCE</td>\n",
       "      <td>False</td>\n",
       "      <td>False</td>\n",
       "      <td>631</td>\n",
       "      <td>6.0</td>\n",
       "      <td>8.0</td>\n",
       "      <td>44.0</td>\n",
       "      <td>NaN</td>\n",
       "      <td>NaN</td>\n",
       "      <td>2004</td>\n",
       "    </tr>\n",
       "    <tr>\n",
       "      <th>...</th>\n",
       "      <td>...</td>\n",
       "      <td>...</td>\n",
       "      <td>...</td>\n",
       "      <td>...</td>\n",
       "      <td>...</td>\n",
       "      <td>...</td>\n",
       "      <td>...</td>\n",
       "      <td>...</td>\n",
       "      <td>...</td>\n",
       "      <td>...</td>\n",
       "      <td>...</td>\n",
       "      <td>...</td>\n",
       "      <td>...</td>\n",
       "      <td>...</td>\n",
       "      <td>...</td>\n",
       "    </tr>\n",
       "    <tr>\n",
       "      <th>70</th>\n",
       "      <td>4737684</td>\n",
       "      <td>06/01/2003 09:00:00 AM</td>\n",
       "      <td>045XX N MALDEN ST</td>\n",
       "      <td>THEFT</td>\n",
       "      <td>FINANCIAL ID THEFT: OVER $300</td>\n",
       "      <td>RESIDENCE</td>\n",
       "      <td>False</td>\n",
       "      <td>False</td>\n",
       "      <td>2311</td>\n",
       "      <td>19.0</td>\n",
       "      <td>46.0</td>\n",
       "      <td>3.0</td>\n",
       "      <td>1166726.0</td>\n",
       "      <td>1.93036e+06</td>\n",
       "      <td>2003</td>\n",
       "    </tr>\n",
       "    <tr>\n",
       "      <th>71</th>\n",
       "      <td>4737727</td>\n",
       "      <td>11/12/2003 10:00:00 AM</td>\n",
       "      <td>008XX E MARQUETTE RD</td>\n",
       "      <td>THEFT</td>\n",
       "      <td>FINANCIAL ID THEFT: OVER $300</td>\n",
       "      <td>RESIDENCE</td>\n",
       "      <td>False</td>\n",
       "      <td>False</td>\n",
       "      <td>321</td>\n",
       "      <td>3.0</td>\n",
       "      <td>20.0</td>\n",
       "      <td>42.0</td>\n",
       "      <td>1182886.0</td>\n",
       "      <td>1.86143e+06</td>\n",
       "      <td>2003</td>\n",
       "    </tr>\n",
       "    <tr>\n",
       "      <th>72</th>\n",
       "      <td>4856873</td>\n",
       "      <td>01/01/2002 12:01:00 AM</td>\n",
       "      <td>012XX N MAYFIELD AVE</td>\n",
       "      <td>OFFENSE INVOLVING CHILDREN</td>\n",
       "      <td>AGG CRIM SEX ABUSE FAM MEMBER</td>\n",
       "      <td>RESIDENCE</td>\n",
       "      <td>False</td>\n",
       "      <td>False</td>\n",
       "      <td>2531</td>\n",
       "      <td>25.0</td>\n",
       "      <td>29.0</td>\n",
       "      <td>25.0</td>\n",
       "      <td>NaN</td>\n",
       "      <td>NaN</td>\n",
       "      <td>2002</td>\n",
       "    </tr>\n",
       "    <tr>\n",
       "      <th>73</th>\n",
       "      <td>4858660</td>\n",
       "      <td>01/01/2002 12:00:00 AM</td>\n",
       "      <td>006XX N STATE ST</td>\n",
       "      <td>OFFENSE INVOLVING CHILDREN</td>\n",
       "      <td>AGG SEX ASSLT OF CHILD FAM MBR</td>\n",
       "      <td>HOTEL/MOTEL</td>\n",
       "      <td>False</td>\n",
       "      <td>True</td>\n",
       "      <td>1832</td>\n",
       "      <td>18.0</td>\n",
       "      <td>42.0</td>\n",
       "      <td>8.0</td>\n",
       "      <td>NaN</td>\n",
       "      <td>NaN</td>\n",
       "      <td>2002</td>\n",
       "    </tr>\n",
       "    <tr>\n",
       "      <th>74</th>\n",
       "      <td>4860395</td>\n",
       "      <td>10/13/2004 11:00:00 AM</td>\n",
       "      <td>096XX S HALSTED ST</td>\n",
       "      <td>SEX OFFENSE</td>\n",
       "      <td>CRIMINAL SEXUAL ABUSE</td>\n",
       "      <td>MEDICAL/DENTAL OFFICE</td>\n",
       "      <td>False</td>\n",
       "      <td>False</td>\n",
       "      <td>2223</td>\n",
       "      <td>22.0</td>\n",
       "      <td>21.0</td>\n",
       "      <td>73.0</td>\n",
       "      <td>NaN</td>\n",
       "      <td>NaN</td>\n",
       "      <td>2004</td>\n",
       "    </tr>\n",
       "    <tr>\n",
       "      <th>75</th>\n",
       "      <td>4740930</td>\n",
       "      <td>09/19/2003 03:00:00 PM</td>\n",
       "      <td>059XX S MAY ST</td>\n",
       "      <td>CRIM SEXUAL ASSAULT</td>\n",
       "      <td>NON-AGGRAVATED</td>\n",
       "      <td>RESIDENCE</td>\n",
       "      <td>False</td>\n",
       "      <td>False</td>\n",
       "      <td>712</td>\n",
       "      <td>7.0</td>\n",
       "      <td>16.0</td>\n",
       "      <td>68.0</td>\n",
       "      <td>1169669.0</td>\n",
       "      <td>1.86534e+06</td>\n",
       "      <td>2003</td>\n",
       "    </tr>\n",
       "    <tr>\n",
       "      <th>76</th>\n",
       "      <td>4742054</td>\n",
       "      <td>07/01/2003 09:00:00 AM</td>\n",
       "      <td>034XX W LAKE ST</td>\n",
       "      <td>THEFT</td>\n",
       "      <td>FINANCIAL ID THEFT: OVER $300</td>\n",
       "      <td>PARKING LOT/GARAGE(NON.RESID.)</td>\n",
       "      <td>False</td>\n",
       "      <td>False</td>\n",
       "      <td>1123</td>\n",
       "      <td>11.0</td>\n",
       "      <td>28.0</td>\n",
       "      <td>27.0</td>\n",
       "      <td>1153501.0</td>\n",
       "      <td>1.90118e+06</td>\n",
       "      <td>2003</td>\n",
       "    </tr>\n",
       "    <tr>\n",
       "      <th>77</th>\n",
       "      <td>4861687</td>\n",
       "      <td>01/09/2002 12:00:00 PM</td>\n",
       "      <td>086XX S STONY ISLAND AVE</td>\n",
       "      <td>THEFT</td>\n",
       "      <td>FINANCIAL ID THEFT: OVER $300</td>\n",
       "      <td>BANK</td>\n",
       "      <td>False</td>\n",
       "      <td>False</td>\n",
       "      <td>412</td>\n",
       "      <td>4.0</td>\n",
       "      <td>8.0</td>\n",
       "      <td>45.0</td>\n",
       "      <td>NaN</td>\n",
       "      <td>NaN</td>\n",
       "      <td>2002</td>\n",
       "    </tr>\n",
       "    <tr>\n",
       "      <th>78</th>\n",
       "      <td>4862013</td>\n",
       "      <td>01/01/2002 12:00:00 AM</td>\n",
       "      <td>004XX E 33RD ST</td>\n",
       "      <td>SEX OFFENSE</td>\n",
       "      <td>AGG CRIMINAL SEXUAL ABUSE</td>\n",
       "      <td>APARTMENT</td>\n",
       "      <td>False</td>\n",
       "      <td>False</td>\n",
       "      <td>2122</td>\n",
       "      <td>2.0</td>\n",
       "      <td>4.0</td>\n",
       "      <td>35.0</td>\n",
       "      <td>NaN</td>\n",
       "      <td>NaN</td>\n",
       "      <td>2002</td>\n",
       "    </tr>\n",
       "    <tr>\n",
       "      <th>79</th>\n",
       "      <td>4742727</td>\n",
       "      <td>12/01/2003 10:00:00 AM</td>\n",
       "      <td>091XX S HARPER AVE</td>\n",
       "      <td>THEFT</td>\n",
       "      <td>FINANCIAL ID THEFT: OVER $300</td>\n",
       "      <td>RESIDENCE</td>\n",
       "      <td>False</td>\n",
       "      <td>False</td>\n",
       "      <td>413</td>\n",
       "      <td>4.0</td>\n",
       "      <td>8.0</td>\n",
       "      <td>48.0</td>\n",
       "      <td>1188041.0</td>\n",
       "      <td>1.84477e+06</td>\n",
       "      <td>2003</td>\n",
       "    </tr>\n",
       "    <tr>\n",
       "      <th>80</th>\n",
       "      <td>4862395</td>\n",
       "      <td>07/17/2004 12:00:00 AM</td>\n",
       "      <td>012XX N CLEAVER ST</td>\n",
       "      <td>SEX OFFENSE</td>\n",
       "      <td>AGG CRIMINAL SEXUAL ABUSE</td>\n",
       "      <td>APARTMENT</td>\n",
       "      <td>False</td>\n",
       "      <td>False</td>\n",
       "      <td>1433</td>\n",
       "      <td>14.0</td>\n",
       "      <td>1.0</td>\n",
       "      <td>24.0</td>\n",
       "      <td>NaN</td>\n",
       "      <td>NaN</td>\n",
       "      <td>2004</td>\n",
       "    </tr>\n",
       "    <tr>\n",
       "      <th>81</th>\n",
       "      <td>4745148</td>\n",
       "      <td>01/01/2003 12:00:00 AM</td>\n",
       "      <td>094XX S VANDERPOEL AVE</td>\n",
       "      <td>SEX OFFENSE</td>\n",
       "      <td>AGG CRIMINAL SEXUAL ABUSE</td>\n",
       "      <td>RESIDENCE</td>\n",
       "      <td>False</td>\n",
       "      <td>False</td>\n",
       "      <td>2221</td>\n",
       "      <td>22.0</td>\n",
       "      <td>19.0</td>\n",
       "      <td>72.0</td>\n",
       "      <td>1166344.0</td>\n",
       "      <td>1.8422e+06</td>\n",
       "      <td>2003</td>\n",
       "    </tr>\n",
       "    <tr>\n",
       "      <th>82</th>\n",
       "      <td>4745262</td>\n",
       "      <td>11/01/2003 12:00:00 AM</td>\n",
       "      <td>075XX S YALE AVE</td>\n",
       "      <td>THEFT</td>\n",
       "      <td>FINANCIAL ID THEFT: OVER $300</td>\n",
       "      <td>RESIDENCE</td>\n",
       "      <td>False</td>\n",
       "      <td>False</td>\n",
       "      <td>623</td>\n",
       "      <td>6.0</td>\n",
       "      <td>17.0</td>\n",
       "      <td>69.0</td>\n",
       "      <td>1175814.0</td>\n",
       "      <td>1.85496e+06</td>\n",
       "      <td>2003</td>\n",
       "    </tr>\n",
       "    <tr>\n",
       "      <th>83</th>\n",
       "      <td>4745415</td>\n",
       "      <td>01/01/2003 12:01:00 AM</td>\n",
       "      <td>024XX N NORDICA AVE</td>\n",
       "      <td>THEFT</td>\n",
       "      <td>FINANCIAL ID THEFT: OVER $300</td>\n",
       "      <td>RESIDENCE</td>\n",
       "      <td>False</td>\n",
       "      <td>False</td>\n",
       "      <td>2512</td>\n",
       "      <td>25.0</td>\n",
       "      <td>36.0</td>\n",
       "      <td>18.0</td>\n",
       "      <td>1128679.0</td>\n",
       "      <td>1.91552e+06</td>\n",
       "      <td>2003</td>\n",
       "    </tr>\n",
       "    <tr>\n",
       "      <th>84</th>\n",
       "      <td>4746249</td>\n",
       "      <td>07/01/2003 09:00:00 AM</td>\n",
       "      <td>091XX S ADA ST</td>\n",
       "      <td>THEFT</td>\n",
       "      <td>FINANCIAL ID THEFT: OVER $300</td>\n",
       "      <td>RESIDENCE</td>\n",
       "      <td>False</td>\n",
       "      <td>False</td>\n",
       "      <td>2222</td>\n",
       "      <td>22.0</td>\n",
       "      <td>21.0</td>\n",
       "      <td>73.0</td>\n",
       "      <td>1168936.0</td>\n",
       "      <td>1.8441e+06</td>\n",
       "      <td>2003</td>\n",
       "    </tr>\n",
       "    <tr>\n",
       "      <th>85</th>\n",
       "      <td>4746322</td>\n",
       "      <td>05/16/2003 12:01:00 AM</td>\n",
       "      <td>048XX W WAVELAND AVE</td>\n",
       "      <td>OTHER OFFENSE</td>\n",
       "      <td>OTHER VEHICLE OFFENSE</td>\n",
       "      <td>APARTMENT</td>\n",
       "      <td>False</td>\n",
       "      <td>False</td>\n",
       "      <td>1634</td>\n",
       "      <td>16.0</td>\n",
       "      <td>38.0</td>\n",
       "      <td>15.0</td>\n",
       "      <td>1143398.0</td>\n",
       "      <td>1.92416e+06</td>\n",
       "      <td>2003</td>\n",
       "    </tr>\n",
       "    <tr>\n",
       "      <th>86</th>\n",
       "      <td>4866805</td>\n",
       "      <td>02/21/2004 12:01:00 AM</td>\n",
       "      <td>003XX W 51ST ST</td>\n",
       "      <td>OFFENSE INVOLVING CHILDREN</td>\n",
       "      <td>AGG CRIM SEX ABUSE FAM MEMBER</td>\n",
       "      <td>RESIDENCE</td>\n",
       "      <td>False</td>\n",
       "      <td>False</td>\n",
       "      <td>934</td>\n",
       "      <td>9.0</td>\n",
       "      <td>3.0</td>\n",
       "      <td>37.0</td>\n",
       "      <td>NaN</td>\n",
       "      <td>NaN</td>\n",
       "      <td>2004</td>\n",
       "    </tr>\n",
       "    <tr>\n",
       "      <th>87</th>\n",
       "      <td>4867308</td>\n",
       "      <td>07/14/2004 06:00:00 PM</td>\n",
       "      <td>003XX S CENTRAL AVE</td>\n",
       "      <td>OFFENSE INVOLVING CHILDREN</td>\n",
       "      <td>CHILD ABUSE</td>\n",
       "      <td>RESIDENCE</td>\n",
       "      <td>False</td>\n",
       "      <td>True</td>\n",
       "      <td>1522</td>\n",
       "      <td>15.0</td>\n",
       "      <td>29.0</td>\n",
       "      <td>25.0</td>\n",
       "      <td>NaN</td>\n",
       "      <td>NaN</td>\n",
       "      <td>2004</td>\n",
       "    </tr>\n",
       "    <tr>\n",
       "      <th>88</th>\n",
       "      <td>4867146</td>\n",
       "      <td>12/02/2004 09:00:00 AM</td>\n",
       "      <td>012XX N CLARK ST</td>\n",
       "      <td>THEFT</td>\n",
       "      <td>OVER $500</td>\n",
       "      <td>BANK</td>\n",
       "      <td>True</td>\n",
       "      <td>False</td>\n",
       "      <td>1824</td>\n",
       "      <td>18.0</td>\n",
       "      <td>42.0</td>\n",
       "      <td>8.0</td>\n",
       "      <td>NaN</td>\n",
       "      <td>NaN</td>\n",
       "      <td>2004</td>\n",
       "    </tr>\n",
       "    <tr>\n",
       "      <th>89</th>\n",
       "      <td>4747760</td>\n",
       "      <td>12/01/2003 09:00:00 AM</td>\n",
       "      <td>048XX W ARMITAGE AVE</td>\n",
       "      <td>THEFT</td>\n",
       "      <td>FINANCIAL ID THEFT: OVER $300</td>\n",
       "      <td>RESIDENCE</td>\n",
       "      <td>False</td>\n",
       "      <td>False</td>\n",
       "      <td>2533</td>\n",
       "      <td>25.0</td>\n",
       "      <td>31.0</td>\n",
       "      <td>19.0</td>\n",
       "      <td>1143576.0</td>\n",
       "      <td>1.91286e+06</td>\n",
       "      <td>2003</td>\n",
       "    </tr>\n",
       "    <tr>\n",
       "      <th>90</th>\n",
       "      <td>4868152</td>\n",
       "      <td>01/01/2004 12:00:00 AM</td>\n",
       "      <td>083XX S MARSHFIELD AVE</td>\n",
       "      <td>WEAPONS VIOLATION</td>\n",
       "      <td>UNLAWFUL SALE HANDGUN</td>\n",
       "      <td>RESIDENCE</td>\n",
       "      <td>False</td>\n",
       "      <td>False</td>\n",
       "      <td>614</td>\n",
       "      <td>6.0</td>\n",
       "      <td>18.0</td>\n",
       "      <td>71.0</td>\n",
       "      <td>NaN</td>\n",
       "      <td>NaN</td>\n",
       "      <td>2004</td>\n",
       "    </tr>\n",
       "    <tr>\n",
       "      <th>91</th>\n",
       "      <td>4868565</td>\n",
       "      <td>08/17/2004 09:27:00 AM</td>\n",
       "      <td>072XX S ABERDEEN ST</td>\n",
       "      <td>MOTOR VEHICLE THEFT</td>\n",
       "      <td>ATT: AUTOMOBILE</td>\n",
       "      <td>ALLEY</td>\n",
       "      <td>False</td>\n",
       "      <td>False</td>\n",
       "      <td>733</td>\n",
       "      <td>7.0</td>\n",
       "      <td>17.0</td>\n",
       "      <td>68.0</td>\n",
       "      <td>NaN</td>\n",
       "      <td>NaN</td>\n",
       "      <td>2004</td>\n",
       "    </tr>\n",
       "    <tr>\n",
       "      <th>92</th>\n",
       "      <td>4868847</td>\n",
       "      <td>12/06/2002 07:00:00 AM</td>\n",
       "      <td>024XX S SAWYER AVE</td>\n",
       "      <td>THEFT</td>\n",
       "      <td>FINANCIAL ID THEFT: OVER $300</td>\n",
       "      <td>RESIDENCE</td>\n",
       "      <td>False</td>\n",
       "      <td>False</td>\n",
       "      <td>1024</td>\n",
       "      <td>10.0</td>\n",
       "      <td>22.0</td>\n",
       "      <td>30.0</td>\n",
       "      <td>NaN</td>\n",
       "      <td>NaN</td>\n",
       "      <td>2002</td>\n",
       "    </tr>\n",
       "    <tr>\n",
       "      <th>93</th>\n",
       "      <td>4871195</td>\n",
       "      <td>12/28/2004 12:00:00 PM</td>\n",
       "      <td>021XX S FAIRFIELD AVE</td>\n",
       "      <td>THEFT</td>\n",
       "      <td>FINANCIAL ID THEFT: OVER $300</td>\n",
       "      <td>RESIDENCE</td>\n",
       "      <td>False</td>\n",
       "      <td>False</td>\n",
       "      <td>1023</td>\n",
       "      <td>10.0</td>\n",
       "      <td>28.0</td>\n",
       "      <td>30.0</td>\n",
       "      <td>NaN</td>\n",
       "      <td>NaN</td>\n",
       "      <td>2004</td>\n",
       "    </tr>\n",
       "    <tr>\n",
       "      <th>94</th>\n",
       "      <td>4870963</td>\n",
       "      <td>09/01/2004 12:00:00 PM</td>\n",
       "      <td>012XX W 97TH PL</td>\n",
       "      <td>THEFT</td>\n",
       "      <td>FINANCIAL ID THEFT: OVER $300</td>\n",
       "      <td>RESIDENCE</td>\n",
       "      <td>False</td>\n",
       "      <td>False</td>\n",
       "      <td>2213</td>\n",
       "      <td>22.0</td>\n",
       "      <td>21.0</td>\n",
       "      <td>73.0</td>\n",
       "      <td>NaN</td>\n",
       "      <td>NaN</td>\n",
       "      <td>2004</td>\n",
       "    </tr>\n",
       "    <tr>\n",
       "      <th>95</th>\n",
       "      <td>4871980</td>\n",
       "      <td>02/04/2004 09:00:00 AM</td>\n",
       "      <td>072XX S GREEN ST</td>\n",
       "      <td>DECEPTIVE PRACTICE</td>\n",
       "      <td>FINAN EXPLOIT-ELDERLY/DISABLED</td>\n",
       "      <td>RESIDENCE</td>\n",
       "      <td>False</td>\n",
       "      <td>False</td>\n",
       "      <td>733</td>\n",
       "      <td>7.0</td>\n",
       "      <td>17.0</td>\n",
       "      <td>68.0</td>\n",
       "      <td>NaN</td>\n",
       "      <td>NaN</td>\n",
       "      <td>2004</td>\n",
       "    </tr>\n",
       "    <tr>\n",
       "      <th>96</th>\n",
       "      <td>4872408</td>\n",
       "      <td>01/01/2004 12:00:00 AM</td>\n",
       "      <td>054XX S MARSHFIELD AVE</td>\n",
       "      <td>OFFENSE INVOLVING CHILDREN</td>\n",
       "      <td>AGG SEX ASSLT OF CHILD FAM MBR</td>\n",
       "      <td>APARTMENT</td>\n",
       "      <td>False</td>\n",
       "      <td>True</td>\n",
       "      <td>932</td>\n",
       "      <td>9.0</td>\n",
       "      <td>16.0</td>\n",
       "      <td>61.0</td>\n",
       "      <td>NaN</td>\n",
       "      <td>NaN</td>\n",
       "      <td>2004</td>\n",
       "    </tr>\n",
       "    <tr>\n",
       "      <th>97</th>\n",
       "      <td>4752685</td>\n",
       "      <td>11/01/2003 12:00:00 PM</td>\n",
       "      <td>070XX S TALMAN AVE</td>\n",
       "      <td>THEFT</td>\n",
       "      <td>FINANCIAL ID THEFT: OVER $300</td>\n",
       "      <td>STREET</td>\n",
       "      <td>False</td>\n",
       "      <td>False</td>\n",
       "      <td>831</td>\n",
       "      <td>8.0</td>\n",
       "      <td>18.0</td>\n",
       "      <td>66.0</td>\n",
       "      <td>1159921.0</td>\n",
       "      <td>1.85795e+06</td>\n",
       "      <td>2003</td>\n",
       "    </tr>\n",
       "    <tr>\n",
       "      <th>98</th>\n",
       "      <td>4873027</td>\n",
       "      <td>01/01/2002 01:00:00 AM</td>\n",
       "      <td>037XX W PALMER ST</td>\n",
       "      <td>CRIM SEXUAL ASSAULT</td>\n",
       "      <td>PREDATORY</td>\n",
       "      <td>RESIDENCE</td>\n",
       "      <td>False</td>\n",
       "      <td>True</td>\n",
       "      <td>2525</td>\n",
       "      <td>25.0</td>\n",
       "      <td>35.0</td>\n",
       "      <td>22.0</td>\n",
       "      <td>NaN</td>\n",
       "      <td>NaN</td>\n",
       "      <td>2002</td>\n",
       "    </tr>\n",
       "    <tr>\n",
       "      <th>99</th>\n",
       "      <td>4873484</td>\n",
       "      <td>10/01/2004 12:01:00 AM</td>\n",
       "      <td>014XX N WESTERN AVE</td>\n",
       "      <td>THEFT</td>\n",
       "      <td>FINANCIAL ID THEFT: OVER $300</td>\n",
       "      <td>SMALL RETAIL STORE</td>\n",
       "      <td>False</td>\n",
       "      <td>False</td>\n",
       "      <td>1423</td>\n",
       "      <td>14.0</td>\n",
       "      <td>1.0</td>\n",
       "      <td>24.0</td>\n",
       "      <td>NaN</td>\n",
       "      <td>NaN</td>\n",
       "      <td>2004</td>\n",
       "    </tr>\n",
       "  </tbody>\n",
       "</table>\n",
       "<p>100 rows × 15 columns</p>\n",
       "</div>"
      ],
      "text/plain": [
       "         ID                    Date                     Block  \\\n",
       "0   4786321  01/01/2004 12:01:00 AM         082XX S COLES AVE   \n",
       "1   4676906  03/01/2003 12:00:00 AM           004XX W 42ND PL   \n",
       "2   4789749  06/20/2004 11:00:00 AM       025XX N KIMBALL AVE   \n",
       "3   4789765  12/30/2004 08:00:00 PM        045XX W MONTANA ST   \n",
       "4   4677901  05/01/2003 01:00:00 AM        111XX S NORMAL AVE   \n",
       "5   4838048  08/01/2004 12:01:00 AM       012XX S HARDING AVE   \n",
       "6   4791194  01/01/2001 11:00:00 AM   114XX S ST LAWRENCE AVE   \n",
       "7   4679521  03/15/2003 12:00:00 AM        090XX S RACINE AVE   \n",
       "8   4792195  09/16/2004 10:00:00 AM        003XX W HUBBARD ST   \n",
       "9   4680124  01/01/2003 12:00:00 AM     009XX S SPAULDING AVE   \n",
       "10  4682244  06/05/2003 12:00:00 AM        093XX S WALLACE ST   \n",
       "11  4795453  11/01/2004 12:01:00 AM      058XX N WINTHROP AVE   \n",
       "12  4684808  01/01/2003 12:00:00 AM        060XX S KEELER AVE   \n",
       "13  4800321  11/01/2004 12:00:00 AM           026XX E 78TH ST   \n",
       "14  4686904  11/01/2003 08:00:00 AM        034XX S PAULINA ST   \n",
       "15  4687321  11/15/2003 09:00:00 AM           033XX W 63RD ST   \n",
       "16  4688004  01/02/2003 08:00:00 AM      035XX W WABANSIA AVE   \n",
       "17  4803028  01/01/2001 12:00:00 AM         055XX S TRIPP AVE   \n",
       "18  4803606  01/01/2001 12:00:00 AM        032XX S OAKLEY AVE   \n",
       "19  4808626  06/14/2002 04:00:00 PM         032XX W BEACH AVE   \n",
       "20  4809221  06/16/2001 08:00:00 AM         063XX S DAMEN AVE   \n",
       "21  4809407  01/01/2004 12:00:00 AM       001XX W RANDOLPH ST   \n",
       "22  4695836  10/31/2003 02:00:00 PM       067XX S ASHLAND AVE   \n",
       "23  4696148  01/01/2003 09:00:00 AM        081XX S ALBANY AVE   \n",
       "24  4696401  01/01/2003 12:00:00 AM        052XX N HARLEM AVE   \n",
       "25  4811727  06/01/2001 08:00:00 AM           054XX W IOWA ST   \n",
       "26  4699493  01/01/2003 12:00:00 PM           017XX E 71ST ST   \n",
       "27  4815217  12/13/2004 01:00:00 PM       067XX S CORNELL AVE   \n",
       "28  4815972  10/06/2004 09:00:00 AM         029XX N MASON AVE   \n",
       "29  4817129  01/12/2004 03:00:00 PM           008XX E 80TH ST   \n",
       "..      ...                     ...                       ...   \n",
       "70  4737684  06/01/2003 09:00:00 AM         045XX N MALDEN ST   \n",
       "71  4737727  11/12/2003 10:00:00 AM      008XX E MARQUETTE RD   \n",
       "72  4856873  01/01/2002 12:01:00 AM      012XX N MAYFIELD AVE   \n",
       "73  4858660  01/01/2002 12:00:00 AM          006XX N STATE ST   \n",
       "74  4860395  10/13/2004 11:00:00 AM        096XX S HALSTED ST   \n",
       "75  4740930  09/19/2003 03:00:00 PM            059XX S MAY ST   \n",
       "76  4742054  07/01/2003 09:00:00 AM           034XX W LAKE ST   \n",
       "77  4861687  01/09/2002 12:00:00 PM  086XX S STONY ISLAND AVE   \n",
       "78  4862013  01/01/2002 12:00:00 AM           004XX E 33RD ST   \n",
       "79  4742727  12/01/2003 10:00:00 AM        091XX S HARPER AVE   \n",
       "80  4862395  07/17/2004 12:00:00 AM        012XX N CLEAVER ST   \n",
       "81  4745148  01/01/2003 12:00:00 AM    094XX S VANDERPOEL AVE   \n",
       "82  4745262  11/01/2003 12:00:00 AM          075XX S YALE AVE   \n",
       "83  4745415  01/01/2003 12:01:00 AM       024XX N NORDICA AVE   \n",
       "84  4746249  07/01/2003 09:00:00 AM            091XX S ADA ST   \n",
       "85  4746322  05/16/2003 12:01:00 AM      048XX W WAVELAND AVE   \n",
       "86  4866805  02/21/2004 12:01:00 AM           003XX W 51ST ST   \n",
       "87  4867308  07/14/2004 06:00:00 PM       003XX S CENTRAL AVE   \n",
       "88  4867146  12/02/2004 09:00:00 AM          012XX N CLARK ST   \n",
       "89  4747760  12/01/2003 09:00:00 AM      048XX W ARMITAGE AVE   \n",
       "90  4868152  01/01/2004 12:00:00 AM    083XX S MARSHFIELD AVE   \n",
       "91  4868565  08/17/2004 09:27:00 AM       072XX S ABERDEEN ST   \n",
       "92  4868847  12/06/2002 07:00:00 AM        024XX S SAWYER AVE   \n",
       "93  4871195  12/28/2004 12:00:00 PM     021XX S FAIRFIELD AVE   \n",
       "94  4870963  09/01/2004 12:00:00 PM           012XX W 97TH PL   \n",
       "95  4871980  02/04/2004 09:00:00 AM          072XX S GREEN ST   \n",
       "96  4872408  01/01/2004 12:00:00 AM    054XX S MARSHFIELD AVE   \n",
       "97  4752685  11/01/2003 12:00:00 PM        070XX S TALMAN AVE   \n",
       "98  4873027  01/01/2002 01:00:00 AM         037XX W PALMER ST   \n",
       "99  4873484  10/01/2004 12:01:00 AM       014XX N WESTERN AVE   \n",
       "\n",
       "                  Primary Type                     Description  \\\n",
       "0                        THEFT   FINANCIAL ID THEFT: OVER $300   \n",
       "1                OTHER OFFENSE         HARASSMENT BY TELEPHONE   \n",
       "2   OFFENSE INVOLVING CHILDREN   AGG CRIM SEX ABUSE FAM MEMBER   \n",
       "3                        THEFT   FINANCIAL ID THEFT: OVER $300   \n",
       "4                        THEFT  FINANCIAL ID THEFT:$300 &UNDER   \n",
       "5                        THEFT  FINANCIAL ID THEFT:$300 &UNDER   \n",
       "6          CRIM SEXUAL ASSAULT                       PREDATORY   \n",
       "7                OTHER OFFENSE         OTHER WEAPONS VIOLATION   \n",
       "8                        THEFT                   FROM BUILDING   \n",
       "9                        THEFT   FINANCIAL ID THEFT: OVER $300   \n",
       "10                       THEFT   FINANCIAL ID THEFT: OVER $300   \n",
       "11                       THEFT   FINANCIAL ID THEFT: OVER $300   \n",
       "12                       THEFT   FINANCIAL ID THEFT: OVER $300   \n",
       "13                       THEFT   FINANCIAL ID THEFT: OVER $300   \n",
       "14                       THEFT   FINANCIAL ID THEFT: OVER $300   \n",
       "15                       THEFT   FINANCIAL ID THEFT: OVER $300   \n",
       "16                       THEFT   FINANCIAL ID THEFT: OVER $300   \n",
       "17  OFFENSE INVOLVING CHILDREN   SEX ASSLT OF CHILD BY FAM MBR   \n",
       "18                       THEFT   FINANCIAL ID THEFT: OVER $300   \n",
       "19         CRIM SEXUAL ASSAULT                       PREDATORY   \n",
       "20  OFFENSE INVOLVING CHILDREN  AGG SEX ASSLT OF CHILD FAM MBR   \n",
       "21                       THEFT   FINANCIAL ID THEFT: OVER $300   \n",
       "22         MOTOR VEHICLE THEFT                      AUTOMOBILE   \n",
       "23                       THEFT   FINANCIAL ID THEFT: OVER $300   \n",
       "24                       THEFT                       OVER $500   \n",
       "25                 SEX OFFENSE           CRIMINAL SEXUAL ABUSE   \n",
       "26                       THEFT   FINANCIAL ID THEFT: OVER $300   \n",
       "27          DECEPTIVE PRACTICE        FRAUD OR CONFIDENCE GAME   \n",
       "28                       THEFT  FINANCIAL ID THEFT:$300 &UNDER   \n",
       "29               OTHER OFFENSE         HARASSMENT BY TELEPHONE   \n",
       "..                         ...                             ...   \n",
       "70                       THEFT   FINANCIAL ID THEFT: OVER $300   \n",
       "71                       THEFT   FINANCIAL ID THEFT: OVER $300   \n",
       "72  OFFENSE INVOLVING CHILDREN   AGG CRIM SEX ABUSE FAM MEMBER   \n",
       "73  OFFENSE INVOLVING CHILDREN  AGG SEX ASSLT OF CHILD FAM MBR   \n",
       "74                 SEX OFFENSE           CRIMINAL SEXUAL ABUSE   \n",
       "75         CRIM SEXUAL ASSAULT                  NON-AGGRAVATED   \n",
       "76                       THEFT   FINANCIAL ID THEFT: OVER $300   \n",
       "77                       THEFT   FINANCIAL ID THEFT: OVER $300   \n",
       "78                 SEX OFFENSE       AGG CRIMINAL SEXUAL ABUSE   \n",
       "79                       THEFT   FINANCIAL ID THEFT: OVER $300   \n",
       "80                 SEX OFFENSE       AGG CRIMINAL SEXUAL ABUSE   \n",
       "81                 SEX OFFENSE       AGG CRIMINAL SEXUAL ABUSE   \n",
       "82                       THEFT   FINANCIAL ID THEFT: OVER $300   \n",
       "83                       THEFT   FINANCIAL ID THEFT: OVER $300   \n",
       "84                       THEFT   FINANCIAL ID THEFT: OVER $300   \n",
       "85               OTHER OFFENSE           OTHER VEHICLE OFFENSE   \n",
       "86  OFFENSE INVOLVING CHILDREN   AGG CRIM SEX ABUSE FAM MEMBER   \n",
       "87  OFFENSE INVOLVING CHILDREN                     CHILD ABUSE   \n",
       "88                       THEFT                       OVER $500   \n",
       "89                       THEFT   FINANCIAL ID THEFT: OVER $300   \n",
       "90           WEAPONS VIOLATION           UNLAWFUL SALE HANDGUN   \n",
       "91         MOTOR VEHICLE THEFT                 ATT: AUTOMOBILE   \n",
       "92                       THEFT   FINANCIAL ID THEFT: OVER $300   \n",
       "93                       THEFT   FINANCIAL ID THEFT: OVER $300   \n",
       "94                       THEFT   FINANCIAL ID THEFT: OVER $300   \n",
       "95          DECEPTIVE PRACTICE  FINAN EXPLOIT-ELDERLY/DISABLED   \n",
       "96  OFFENSE INVOLVING CHILDREN  AGG SEX ASSLT OF CHILD FAM MBR   \n",
       "97                       THEFT   FINANCIAL ID THEFT: OVER $300   \n",
       "98         CRIM SEXUAL ASSAULT                       PREDATORY   \n",
       "99                       THEFT   FINANCIAL ID THEFT: OVER $300   \n",
       "\n",
       "              Location Description  Arrest  Domestic  Beat  District  Ward  \\\n",
       "0                        RESIDENCE   False     False   424       4.0   7.0   \n",
       "1                        RESIDENCE   False      True   935       9.0  11.0   \n",
       "2                        RESIDENCE   False     False  1413      14.0  35.0   \n",
       "3                            OTHER   False     False  2521      25.0  31.0   \n",
       "4                        RESIDENCE   False     False  2233      22.0  34.0   \n",
       "5                        APARTMENT   False     False  1011      10.0  24.0   \n",
       "6                        RESIDENCE    True      True   531       5.0   9.0   \n",
       "7          RESIDENCE PORCH/HALLWAY   False     False  2222      22.0  21.0   \n",
       "8                        RESIDENCE   False     False  1831      18.0  42.0   \n",
       "9                        RESIDENCE   False     False  1134      11.0  24.0   \n",
       "10                       RESIDENCE   False     False  2223      22.0  21.0   \n",
       "11                       RESIDENCE   False     False  2022      20.0  48.0   \n",
       "12                       RESIDENCE   False     False   813       8.0  13.0   \n",
       "13                       RESIDENCE   False     False   421       4.0   7.0   \n",
       "14                       RESIDENCE   False     False   922       9.0  11.0   \n",
       "15                       APARTMENT   False     False   823       8.0  15.0   \n",
       "16                       RESIDENCE   False     False  1422      14.0  26.0   \n",
       "17                       RESIDENCE    True     False   813       8.0  13.0   \n",
       "18                           OTHER   False     False   913       9.0  12.0   \n",
       "19                       APARTMENT   False     False  1422      14.0  26.0   \n",
       "20                       RESIDENCE    True     False   726       7.0  15.0   \n",
       "21                       APARTMENT   False     False   113       1.0  42.0   \n",
       "22                     GAS STATION   False     False   725       7.0  15.0   \n",
       "23                       RESIDENCE   False     False   835       8.0  18.0   \n",
       "24    COMMERCIAL / BUSINESS OFFICE    True     False  1613      16.0  41.0   \n",
       "25                       RESIDENCE   False     False  1524      15.0  37.0   \n",
       "26                           OTHER   False     False   324       3.0   5.0   \n",
       "27                       RESIDENCE   False     False   332       3.0   5.0   \n",
       "28                       RESIDENCE   False     False  2514      25.0  30.0   \n",
       "29                       RESIDENCE   False     False   631       6.0   8.0   \n",
       "..                             ...     ...       ...   ...       ...   ...   \n",
       "70                       RESIDENCE   False     False  2311      19.0  46.0   \n",
       "71                       RESIDENCE   False     False   321       3.0  20.0   \n",
       "72                       RESIDENCE   False     False  2531      25.0  29.0   \n",
       "73                     HOTEL/MOTEL   False      True  1832      18.0  42.0   \n",
       "74           MEDICAL/DENTAL OFFICE   False     False  2223      22.0  21.0   \n",
       "75                       RESIDENCE   False     False   712       7.0  16.0   \n",
       "76  PARKING LOT/GARAGE(NON.RESID.)   False     False  1123      11.0  28.0   \n",
       "77                            BANK   False     False   412       4.0   8.0   \n",
       "78                       APARTMENT   False     False  2122       2.0   4.0   \n",
       "79                       RESIDENCE   False     False   413       4.0   8.0   \n",
       "80                       APARTMENT   False     False  1433      14.0   1.0   \n",
       "81                       RESIDENCE   False     False  2221      22.0  19.0   \n",
       "82                       RESIDENCE   False     False   623       6.0  17.0   \n",
       "83                       RESIDENCE   False     False  2512      25.0  36.0   \n",
       "84                       RESIDENCE   False     False  2222      22.0  21.0   \n",
       "85                       APARTMENT   False     False  1634      16.0  38.0   \n",
       "86                       RESIDENCE   False     False   934       9.0   3.0   \n",
       "87                       RESIDENCE   False      True  1522      15.0  29.0   \n",
       "88                            BANK    True     False  1824      18.0  42.0   \n",
       "89                       RESIDENCE   False     False  2533      25.0  31.0   \n",
       "90                       RESIDENCE   False     False   614       6.0  18.0   \n",
       "91                           ALLEY   False     False   733       7.0  17.0   \n",
       "92                       RESIDENCE   False     False  1024      10.0  22.0   \n",
       "93                       RESIDENCE   False     False  1023      10.0  28.0   \n",
       "94                       RESIDENCE   False     False  2213      22.0  21.0   \n",
       "95                       RESIDENCE   False     False   733       7.0  17.0   \n",
       "96                       APARTMENT   False      True   932       9.0  16.0   \n",
       "97                          STREET   False     False   831       8.0  18.0   \n",
       "98                       RESIDENCE   False      True  2525      25.0  35.0   \n",
       "99              SMALL RETAIL STORE   False     False  1423      14.0   1.0   \n",
       "\n",
       "    Community Area  X Coordinate Y Coordinate  Year  \n",
       "0             46.0           NaN          NaN  2004  \n",
       "1             61.0     1173974.0  1.87676e+06  2003  \n",
       "2             22.0           NaN          NaN  2004  \n",
       "3             20.0           NaN          NaN  2004  \n",
       "4             49.0     1174948.0  1.83105e+06  2003  \n",
       "5             29.0           NaN          NaN  2004  \n",
       "6             50.0     1182247.0  1.82938e+06  2001  \n",
       "7             73.0     1169911.0  1.84483e+06  2003  \n",
       "8              8.0           NaN          NaN  2004  \n",
       "9             29.0     1154521.0  1.89576e+06  2003  \n",
       "10            73.0     1173946.0   1.8429e+06  2003  \n",
       "11            77.0           NaN          NaN  2004  \n",
       "12            65.0     1149407.0  1.86416e+06  2003  \n",
       "13            43.0           NaN          NaN  2004  \n",
       "14            59.0     1165579.0  1.88189e+06  2003  \n",
       "15            66.0     1155257.0  1.86265e+06  2003  \n",
       "16            23.0     1152348.0  1.91106e+06  2003  \n",
       "17            62.0     1149024.0   1.8672e+06  2001  \n",
       "18            59.0     1161574.0  1.88296e+06  2001  \n",
       "19            23.0           NaN          NaN  2002  \n",
       "20            67.0     1164076.0  1.86258e+06  2001  \n",
       "21            32.0           NaN          NaN  2004  \n",
       "22            67.0     1166831.0  1.86012e+06  2003  \n",
       "23            70.0     1157131.0   1.8504e+06  2003  \n",
       "24            10.0     1127354.0  1.93422e+06  2003  \n",
       "25            25.0     1139668.0   1.9055e+06  2001  \n",
       "26            43.0     1188978.0  1.85822e+06  2003  \n",
       "27            43.0           NaN          NaN  2004  \n",
       "28            19.0           NaN          NaN  2004  \n",
       "29            44.0           NaN          NaN  2004  \n",
       "..             ...           ...          ...   ...  \n",
       "70             3.0     1166726.0  1.93036e+06  2003  \n",
       "71            42.0     1182886.0  1.86143e+06  2003  \n",
       "72            25.0           NaN          NaN  2002  \n",
       "73             8.0           NaN          NaN  2002  \n",
       "74            73.0           NaN          NaN  2004  \n",
       "75            68.0     1169669.0  1.86534e+06  2003  \n",
       "76            27.0     1153501.0  1.90118e+06  2003  \n",
       "77            45.0           NaN          NaN  2002  \n",
       "78            35.0           NaN          NaN  2002  \n",
       "79            48.0     1188041.0  1.84477e+06  2003  \n",
       "80            24.0           NaN          NaN  2004  \n",
       "81            72.0     1166344.0   1.8422e+06  2003  \n",
       "82            69.0     1175814.0  1.85496e+06  2003  \n",
       "83            18.0     1128679.0  1.91552e+06  2003  \n",
       "84            73.0     1168936.0   1.8441e+06  2003  \n",
       "85            15.0     1143398.0  1.92416e+06  2003  \n",
       "86            37.0           NaN          NaN  2004  \n",
       "87            25.0           NaN          NaN  2004  \n",
       "88             8.0           NaN          NaN  2004  \n",
       "89            19.0     1143576.0  1.91286e+06  2003  \n",
       "90            71.0           NaN          NaN  2004  \n",
       "91            68.0           NaN          NaN  2004  \n",
       "92            30.0           NaN          NaN  2002  \n",
       "93            30.0           NaN          NaN  2004  \n",
       "94            73.0           NaN          NaN  2004  \n",
       "95            68.0           NaN          NaN  2004  \n",
       "96            61.0           NaN          NaN  2004  \n",
       "97            66.0     1159921.0  1.85795e+06  2003  \n",
       "98            22.0           NaN          NaN  2002  \n",
       "99            24.0           NaN          NaN  2004  \n",
       "\n",
       "[100 rows x 15 columns]"
      ]
     },
     "execution_count": 12,
     "metadata": {},
     "output_type": "execute_result"
    }
   ],
   "source": [
    "dropped_crimes.head(100)"
   ]
  },
  {
   "cell_type": "code",
   "execution_count": 13,
   "metadata": {},
   "outputs": [
    {
     "data": {
      "text/plain": [
       "ID                           0\n",
       "Date                         0\n",
       "Block                        0\n",
       "Primary Type                 0\n",
       "Description                  0\n",
       "Location Description      1990\n",
       "Arrest                       0\n",
       "Domestic                     0\n",
       "Beat                         0\n",
       "District                    91\n",
       "Ward                    700224\n",
       "Community Area          702091\n",
       "X Coordinate            105573\n",
       "Y Coordinate            105573\n",
       "Year                         0\n",
       "dtype: int64"
      ]
     },
     "execution_count": 13,
     "metadata": {},
     "output_type": "execute_result"
    }
   ],
   "source": [
    "crimes_missing = dropped_crimes.isna()\n",
    "crimes_num_missing = crimes_missing.sum()\n",
    "crimes_num_missing"
   ]
  },
  {
   "cell_type": "code",
   "execution_count": 14,
   "metadata": {},
   "outputs": [
    {
     "name": "stderr",
     "output_type": "stream",
     "text": [
      "C:\\Users\\adamb\\AppData\\Local\\Continuum\\anaconda3\\lib\\site-packages\\IPython\\core\\interactiveshell.py:3057: DtypeWarning: Columns (14) have mixed types. Specify dtype option on import or set low_memory=False.\n",
      "  interactivity=interactivity, compiler=compiler, result=result)\n"
     ]
    }
   ],
   "source": [
    "cleaned_crimes = pd.read_csv(\"cleaned_crimes.csv\")"
   ]
  },
  {
   "cell_type": "code",
   "execution_count": 15,
   "metadata": {},
   "outputs": [],
   "source": [
    "cleaned_crimes['Date']= pd.to_datetime(cleaned_crimes['Date']) "
   ]
  },
  {
   "cell_type": "code",
   "execution_count": 16,
   "metadata": {},
   "outputs": [],
   "source": [
    "cleaned_crimes['Month'] = pd.DatetimeIndex(cleaned_crimes['Date']).month"
   ]
  },
  {
   "cell_type": "code",
   "execution_count": 17,
   "metadata": {},
   "outputs": [],
   "source": [
    "cleaned_crimes = cleaned_crimes.drop(columns =['Unnamed: 0'])"
   ]
  },
  {
   "cell_type": "markdown",
   "metadata": {},
   "source": [
    "<h1>Data Exploration</h1>"
   ]
  },
  {
   "cell_type": "code",
   "execution_count": 18,
   "metadata": {},
   "outputs": [
    {
     "data": {
      "text/html": [
       "<div>\n",
       "<style scoped>\n",
       "    .dataframe tbody tr th:only-of-type {\n",
       "        vertical-align: middle;\n",
       "    }\n",
       "\n",
       "    .dataframe tbody tr th {\n",
       "        vertical-align: top;\n",
       "    }\n",
       "\n",
       "    .dataframe thead th {\n",
       "        text-align: right;\n",
       "    }\n",
       "</style>\n",
       "<table border=\"1\" class=\"dataframe\">\n",
       "  <thead>\n",
       "    <tr style=\"text-align: right;\">\n",
       "      <th></th>\n",
       "      <th>ID</th>\n",
       "      <th>Date</th>\n",
       "      <th>Block</th>\n",
       "      <th>Primary Type</th>\n",
       "      <th>Description</th>\n",
       "      <th>Location Description</th>\n",
       "      <th>Arrest</th>\n",
       "      <th>Domestic</th>\n",
       "      <th>Beat</th>\n",
       "      <th>District</th>\n",
       "      <th>Ward</th>\n",
       "      <th>Community Area</th>\n",
       "      <th>X Coordinate</th>\n",
       "      <th>Y Coordinate</th>\n",
       "      <th>Year</th>\n",
       "      <th>Month</th>\n",
       "    </tr>\n",
       "  </thead>\n",
       "  <tbody>\n",
       "    <tr>\n",
       "      <th>0</th>\n",
       "      <td>4786321</td>\n",
       "      <td>2004-01-01 00:01:00</td>\n",
       "      <td>082XX S COLES AVE</td>\n",
       "      <td>THEFT</td>\n",
       "      <td>FINANCIAL ID THEFT: OVER $300</td>\n",
       "      <td>RESIDENCE</td>\n",
       "      <td>False</td>\n",
       "      <td>False</td>\n",
       "      <td>424</td>\n",
       "      <td>4.0</td>\n",
       "      <td>7.0</td>\n",
       "      <td>46.0</td>\n",
       "      <td>NaN</td>\n",
       "      <td>NaN</td>\n",
       "      <td>2004</td>\n",
       "      <td>1</td>\n",
       "    </tr>\n",
       "    <tr>\n",
       "      <th>1</th>\n",
       "      <td>4676906</td>\n",
       "      <td>2003-03-01 00:00:00</td>\n",
       "      <td>004XX W 42ND PL</td>\n",
       "      <td>OTHER OFFENSE</td>\n",
       "      <td>HARASSMENT BY TELEPHONE</td>\n",
       "      <td>RESIDENCE</td>\n",
       "      <td>False</td>\n",
       "      <td>True</td>\n",
       "      <td>935</td>\n",
       "      <td>9.0</td>\n",
       "      <td>11.0</td>\n",
       "      <td>61.0</td>\n",
       "      <td>1173974.0</td>\n",
       "      <td>1.87676e+06</td>\n",
       "      <td>2003</td>\n",
       "      <td>3</td>\n",
       "    </tr>\n",
       "    <tr>\n",
       "      <th>2</th>\n",
       "      <td>4789749</td>\n",
       "      <td>2004-06-20 11:00:00</td>\n",
       "      <td>025XX N KIMBALL AVE</td>\n",
       "      <td>OFFENSE INVOLVING CHILDREN</td>\n",
       "      <td>AGG CRIM SEX ABUSE FAM MEMBER</td>\n",
       "      <td>RESIDENCE</td>\n",
       "      <td>False</td>\n",
       "      <td>False</td>\n",
       "      <td>1413</td>\n",
       "      <td>14.0</td>\n",
       "      <td>35.0</td>\n",
       "      <td>22.0</td>\n",
       "      <td>NaN</td>\n",
       "      <td>NaN</td>\n",
       "      <td>2004</td>\n",
       "      <td>6</td>\n",
       "    </tr>\n",
       "    <tr>\n",
       "      <th>3</th>\n",
       "      <td>4789765</td>\n",
       "      <td>2004-12-30 20:00:00</td>\n",
       "      <td>045XX W MONTANA ST</td>\n",
       "      <td>THEFT</td>\n",
       "      <td>FINANCIAL ID THEFT: OVER $300</td>\n",
       "      <td>OTHER</td>\n",
       "      <td>False</td>\n",
       "      <td>False</td>\n",
       "      <td>2521</td>\n",
       "      <td>25.0</td>\n",
       "      <td>31.0</td>\n",
       "      <td>20.0</td>\n",
       "      <td>NaN</td>\n",
       "      <td>NaN</td>\n",
       "      <td>2004</td>\n",
       "      <td>12</td>\n",
       "    </tr>\n",
       "    <tr>\n",
       "      <th>4</th>\n",
       "      <td>4677901</td>\n",
       "      <td>2003-05-01 01:00:00</td>\n",
       "      <td>111XX S NORMAL AVE</td>\n",
       "      <td>THEFT</td>\n",
       "      <td>FINANCIAL ID THEFT:$300 &amp;UNDER</td>\n",
       "      <td>RESIDENCE</td>\n",
       "      <td>False</td>\n",
       "      <td>False</td>\n",
       "      <td>2233</td>\n",
       "      <td>22.0</td>\n",
       "      <td>34.0</td>\n",
       "      <td>49.0</td>\n",
       "      <td>1174948.0</td>\n",
       "      <td>1.83105e+06</td>\n",
       "      <td>2003</td>\n",
       "      <td>5</td>\n",
       "    </tr>\n",
       "  </tbody>\n",
       "</table>\n",
       "</div>"
      ],
      "text/plain": [
       "        ID                Date                Block  \\\n",
       "0  4786321 2004-01-01 00:01:00    082XX S COLES AVE   \n",
       "1  4676906 2003-03-01 00:00:00      004XX W 42ND PL   \n",
       "2  4789749 2004-06-20 11:00:00  025XX N KIMBALL AVE   \n",
       "3  4789765 2004-12-30 20:00:00   045XX W MONTANA ST   \n",
       "4  4677901 2003-05-01 01:00:00   111XX S NORMAL AVE   \n",
       "\n",
       "                 Primary Type                     Description  \\\n",
       "0                       THEFT   FINANCIAL ID THEFT: OVER $300   \n",
       "1               OTHER OFFENSE         HARASSMENT BY TELEPHONE   \n",
       "2  OFFENSE INVOLVING CHILDREN   AGG CRIM SEX ABUSE FAM MEMBER   \n",
       "3                       THEFT   FINANCIAL ID THEFT: OVER $300   \n",
       "4                       THEFT  FINANCIAL ID THEFT:$300 &UNDER   \n",
       "\n",
       "  Location Description  Arrest  Domestic  Beat  District  Ward  \\\n",
       "0            RESIDENCE   False     False   424       4.0   7.0   \n",
       "1            RESIDENCE   False      True   935       9.0  11.0   \n",
       "2            RESIDENCE   False     False  1413      14.0  35.0   \n",
       "3                OTHER   False     False  2521      25.0  31.0   \n",
       "4            RESIDENCE   False     False  2233      22.0  34.0   \n",
       "\n",
       "   Community Area  X Coordinate Y Coordinate  Year  Month  \n",
       "0            46.0           NaN          NaN  2004      1  \n",
       "1            61.0     1173974.0  1.87676e+06  2003      3  \n",
       "2            22.0           NaN          NaN  2004      6  \n",
       "3            20.0           NaN          NaN  2004     12  \n",
       "4            49.0     1174948.0  1.83105e+06  2003      5  "
      ]
     },
     "execution_count": 18,
     "metadata": {},
     "output_type": "execute_result"
    }
   ],
   "source": [
    "cleaned_crimes.head()"
   ]
  },
  {
   "cell_type": "code",
   "execution_count": 19,
   "metadata": {},
   "outputs": [
    {
     "data": {
      "text/plain": [
       "<BarContainer object of 17 artists>"
      ]
     },
     "execution_count": 19,
     "metadata": {},
     "output_type": "execute_result"
    },
    {
     "data": {
      "image/png": "[encoded data removed]",
      "text/plain": [
       "<Figure size 432x288 with 1 Axes>"
      ]
     },
     "metadata": {
      "needs_background": "light"
     },
     "output_type": "display_data"
    }
   ],
   "source": [
    "filterCrimes = cleaned_crimes[cleaned_crimes['Year'] > 2000]\n",
    "filterCrimes = filterCrimes.groupby('Year').count()\n",
    "\n",
    "filterCrimes.index.name = 'Year'\n",
    "filterCrimes.reset_index(inplace=True)\n",
    "plt.title(\"Crimes Per Year\")\n",
    "plt.xlabel(\"Year\")\n",
    "plt.ylabel(\"Crimes\")\n",
    "plt.xticks(filterCrimes['Year'],fontsize=7.5)\n",
    "plt.bar(filterCrimes['Year'],filterCrimes['ID'])"
   ]
  },
  {
   "cell_type": "code",
   "execution_count": 20,
   "metadata": {},
   "outputs": [
    {
     "data": {
      "text/plain": [
       "<BarContainer object of 17 artists>"
      ]
     },
     "execution_count": 20,
     "metadata": {},
     "output_type": "execute_result"
    },
    {
     "data": {
      "image/png": "[encoded data removed]",
      "text/plain": [
       "<Figure size 432x288 with 1 Axes>"
      ]
     },
     "metadata": {
      "needs_background": "light"
     },
     "output_type": "display_data"
    }
   ],
   "source": [
    "filterArrest = cleaned_crimes[(cleaned_crimes['Arrest']) == True & (cleaned_crimes['Year'] > 2000)]\n",
    "filterArrest = filterArrest.groupby('Year').sum()\n",
    "\n",
    "filterArrest.index.name = 'Year'\n",
    "filterArrest.reset_index(inplace=True)\n",
    "plt.title(\"Arrests Per Year\")\n",
    "plt.xlabel(\"Year\")\n",
    "plt.ylabel(\"Arrests\")\n",
    "plt.xticks(filterArrest['Year'],fontsize=7.5)\n",
    "plt.bar(filterArrest['Year'],filterArrest['Arrest'])"
   ]
  },
  {
   "cell_type": "code",
   "execution_count": 21,
   "metadata": {},
   "outputs": [
    {
     "data": {
      "text/plain": [
       "[<matplotlib.lines.Line2D at 0x20e30898be0>]"
      ]
     },
     "execution_count": 21,
     "metadata": {},
     "output_type": "execute_result"
    },
    {
     "data": {
      "image/png": "[encoded data removed]",
      "text/plain": [
       "<Figure size 432x288 with 1 Axes>"
      ]
     },
     "metadata": {
      "needs_background": "light"
     },
     "output_type": "display_data"
    }
   ],
   "source": [
    "filterTheft = cleaned_crimes[(cleaned_crimes['Primary Type'] == \"THEFT\") & (cleaned_crimes['Year'] > 2000)]\n",
    "filterTheft = filterTheft.groupby('Year').size().to_frame('Count').reset_index()\n",
    "plt.title(\"Thefts Per Year\")\n",
    "plt.xlabel(\"Year\")\n",
    "plt.ylabel(\"Thefts\")\n",
    "plt.plot(filterTheft['Year'],filterTheft['Count'])"
   ]
  },
  {
   "cell_type": "markdown",
   "metadata": {},
   "source": [
    "<h1>Final Linear Regressions</h1>"
   ]
  },
  {
   "cell_type": "markdown",
   "metadata": {},
   "source": [
    "<h2>Crimes Per Month</h2>"
   ]
  },
  {
   "cell_type": "code",
   "execution_count": 22,
   "metadata": {},
   "outputs": [
    {
     "data": {
      "text/plain": [
       "<matplotlib.collections.PathCollection at 0x20decef8978>"
      ]
     },
     "execution_count": 22,
     "metadata": {},
     "output_type": "execute_result"
    },
    {
     "data": {
      "image/png": "[encoded data removed]",
      "text/plain": [
       "<Figure size 432x288 with 1 Axes>"
      ]
     },
     "metadata": {
      "needs_background": "light"
     },
     "output_type": "display_data"
    }
   ],
   "source": [
    "filterMonthCrime1 = cleaned_crimes[(cleaned_crimes['Year'] == 2008)]\n",
    "filterMonthCrime1 = filterMonthCrime1.groupby(['Month']).count()\n",
    "\n",
    "filterMonthCrime2 = cleaned_crimes[(cleaned_crimes['Year'] == 2009)]\n",
    "filterMonthCrime2 = filterMonthCrime2.groupby(['Month']).count()\n",
    "\n",
    "filterMonthCrime3 = cleaned_crimes[(cleaned_crimes['Year'] == 2010)]\n",
    "filterMonthCrime3 = filterMonthCrime3.groupby(['Month']).count()\n",
    "\n",
    "filterMonthCrime4 = cleaned_crimes[(cleaned_crimes['Year'] == 2011)]\n",
    "filterMonthCrime4 = filterMonthCrime4.groupby(['Month']).count()\n",
    "\n",
    "filterMonthCrime5 = cleaned_crimes[(cleaned_crimes['Year'] == 2012)]\n",
    "filterMonthCrime5 = filterMonthCrime5.groupby(['Month']).count()\n",
    "\n",
    "allMonthCrime = [filterMonthCrime1,filterMonthCrime2,filterMonthCrime3,filterMonthCrime4,filterMonthCrime5]\n",
    "allMonthCrimes = pd.concat(allMonthCrime)\n",
    "allMonthCrimes.reset_index(inplace=True)\n",
    "allMonthCrimes.index = np.arange(1, len(allMonthCrimes)+1)\n",
    "allMonthCrimes['index1'] = allMonthCrimes.index\n",
    "plt.title(\"Crimes Per Month\")\n",
    "plt.xlabel(\"Month\")\n",
    "plt.ylabel(\"Crimes\")\n",
    "\n",
    "plt.annotate('2008', xy=(1, 19500), xytext=(3, 10000),arrowprops=dict(facecolor='black', shrink=0.05))\n",
    "plt.annotate('2009', xy=(13, 19500), xytext=(13, 7000),arrowprops=dict(facecolor='black', shrink=0.05))\n",
    "plt.annotate('2010', xy=(25, 19500), xytext=(25, 6000),arrowprops=dict(facecolor='black', shrink=0.05))\n",
    "plt.annotate('2011', xy=(37, 19500), xytext=(37, 6000),arrowprops=dict(facecolor='black', shrink=0.05))\n",
    "plt.annotate('2012', xy=(49, 19500), xytext=(41, 10000),arrowprops=dict(facecolor='black', shrink=0.05))\n",
    "plt.scatter(allMonthCrimes['index1'],allMonthCrimes['ID'])"
   ]
  },
  {
   "cell_type": "code",
   "execution_count": 23,
   "metadata": {},
   "outputs": [
    {
     "data": {
      "text/plain": [
       "[<matplotlib.lines.Line2D at 0x20e079b6da0>]"
      ]
     },
     "execution_count": 23,
     "metadata": {},
     "output_type": "execute_result"
    },
    {
     "data": {
      "image/png": "[encoded data removed]",
      "text/plain": [
       "<Figure size 432x288 with 1 Axes>"
      ]
     },
     "metadata": {
      "needs_background": "light"
     },
     "output_type": "display_data"
    }
   ],
   "source": [
    "from sklearn.linear_model import LinearRegression\n",
    "model = LinearRegression()\n",
    "model.fit(allMonthCrimes['index1'][:,np.newaxis],allMonthCrimes['ID'])\n",
    "xfit = np.linspace(0,60)\n",
    "yfit = model.predict(xfit[:,np.newaxis])\n",
    "\n",
    "plt.scatter(allMonthCrimes['index1'],allMonthCrimes['ID'])\n",
    "plt.xticks(np.arange(0,60,10))\n",
    "plt.title(\"Crimes Per Month\")\n",
    "plt.xlabel(\"Month\")\n",
    "plt.ylabel(\"Crimes\")\n",
    "\n",
    "plt.annotate('2008', xy=(1, 18800), xytext=(3, 10000),arrowprops=dict(facecolor='black', shrink=0.05))\n",
    "plt.annotate('2009', xy=(13, 18800), xytext=(13, 7000),arrowprops=dict(facecolor='black', shrink=0.05))\n",
    "plt.annotate('2010', xy=(25, 18800), xytext=(25, 6000),arrowprops=dict(facecolor='black', shrink=0.05))\n",
    "plt.annotate('2011', xy=(37, 18800), xytext=(37, 6000),arrowprops=dict(facecolor='black', shrink=0.05))\n",
    "plt.annotate('2012', xy=(49, 18800), xytext=(41, 10000),arrowprops=dict(facecolor='black', shrink=0.05))\n",
    "plt.plot(xfit,yfit)"
   ]
  },
  {
   "cell_type": "code",
   "execution_count": 24,
   "metadata": {},
   "outputs": [
    {
     "name": "stdout",
     "output_type": "stream",
     "text": [
      "lr.coef_: [[-981.67172571]]\n",
      "lr.intercept_: [80036.20973578]\n",
      "Training set score: 0.78\n",
      "Test set score: 0.74\n"
     ]
    }
   ],
   "source": [
    "from sklearn.model_selection import train_test_split\n",
    "\n",
    "X = allMonthCrimes['index1'].values.reshape(-1,1)\n",
    "y = allMonthCrimes['ID'].values.reshape(-1,1)\n",
    "\n",
    "X_train, X_test, y_train, y_test = train_test_split(X, y, test_size=0.3, random_state=0)\n",
    "lr = LinearRegression()\n",
    "lr.fit(X_train, y_train)\n",
    "\n",
    "print(\"lr.coef_:\", lr.coef_)\n",
    "print(\"lr.intercept_:\", lr.intercept_)\n",
    "\n",
    "print(\"Training set score: {:.2f}\".format(lr.score(X_train, y_train)))\n",
    "print(\"Test set score: {:.2f}\".format(lr.score(X_test, y_test)))"
   ]
  },
  {
   "cell_type": "code",
   "execution_count": 25,
   "metadata": {},
   "outputs": [
    {
     "name": "stdout",
     "output_type": "stream",
     "text": [
      "Model slope:  -981.4671853292582\n",
      "Model intercept:  80341.08248587571\n"
     ]
    }
   ],
   "source": [
    "print('Model slope: ', model.coef_[0])\n",
    "print('Model intercept: ', model.intercept_)"
   ]
  },
  {
   "cell_type": "markdown",
   "metadata": {},
   "source": [
    "<b>Model Evaluation</b>"
   ]
  },
  {
   "cell_type": "code",
   "execution_count": 26,
   "metadata": {},
   "outputs": [
    {
     "name": "stdout",
     "output_type": "stream",
     "text": [
      "Mean Absolute Error:  8426.94137662342\n",
      "Mean Squared Error:  99699583.61894862\n",
      "Root Mean Squared Error:  9984.967882719935\n"
     ]
    }
   ],
   "source": [
    "from sklearn import metrics\n",
    "y_predlr = lr.predict(X_test)\n",
    "print(\"Mean Absolute Error: \", metrics.mean_absolute_error(y_test, y_predlr))\n",
    "print(\"Mean Squared Error: \", metrics.mean_squared_error(y_test, y_predlr))\n",
    "print(\"Root Mean Squared Error: \", np.sqrt(metrics.mean_squared_error(y_test, y_predlr)))"
   ]
  },
  {
   "cell_type": "code",
   "execution_count": 27,
   "metadata": {},
   "outputs": [
    {
     "name": "stdout",
     "output_type": "stream",
     "text": [
      "R^2:  0.7374626836020501\n"
     ]
    }
   ],
   "source": [
    "from sklearn.metrics import r2_score\n",
    "print(\"R^2: \", r2_score(y_test, y_predlr))"
   ]
  },
  {
   "cell_type": "markdown",
   "metadata": {},
   "source": [
    "<h2>Arrests Per Month</h2>"
   ]
  },
  {
   "cell_type": "code",
   "execution_count": 28,
   "metadata": {},
   "outputs": [
    {
     "data": {
      "text/plain": [
       "<matplotlib.collections.PathCollection at 0x20df47ad4e0>"
      ]
     },
     "execution_count": 28,
     "metadata": {},
     "output_type": "execute_result"
    },
    {
     "data": {
      "image/png": "[encoded data removed]",
      "text/plain": [
       "<Figure size 432x288 with 1 Axes>"
      ]
     },
     "metadata": {
      "needs_background": "light"
     },
     "output_type": "display_data"
    }
   ],
   "source": [
    "monthArrests = cleaned_crimes[(cleaned_crimes['Arrest']) == True & (cleaned_crimes['Year'] > 2000)]\n",
    "\n",
    "filterMonthArrest1 = monthArrests[monthArrests['Year'] == 2008]\n",
    "filterMonthArrest1 = filterMonthArrest1.groupby(['Month']).count()\n",
    "\n",
    "filterMonthArrest2 = monthArrests[monthArrests['Year'] == 2009]\n",
    "filterMonthArrest2 = filterMonthArrest2.groupby(['Month']).count()\n",
    "\n",
    "filterMonthArrest3 = monthArrests[monthArrests['Year'] == 2010]\n",
    "filterMonthArrest3 = filterMonthArrest3.groupby(['Month']).count()\n",
    "\n",
    "filterMonthArrest4 = monthArrests[monthArrests['Year'] == 2011]\n",
    "filterMonthArrest4 = filterMonthArrest4.groupby(['Month']).count()\n",
    "\n",
    "filterMonthArrest5 = monthArrests[monthArrests['Year'] == 2012]\n",
    "filterMonthArrest5 = filterMonthArrest5.groupby(['Month']).count()\n",
    "\n",
    "allMonthArrest = [filterMonthArrest1,filterMonthArrest2,filterMonthArrest3,filterMonthArrest4,filterMonthArrest5]\n",
    "allMonthArrests = pd.concat(allMonthArrest)\n",
    "allMonthArrests.reset_index(inplace=True)\n",
    "allMonthArrests.index = np.arange(1, len(allMonthArrests)+1)\n",
    "allMonthArrests['index1'] = allMonthArrests.index\n",
    "plt.title(\"Arrests Per Month\")\n",
    "plt.xlabel(\"Month\")\n",
    "plt.ylabel(\"Arrests\")\n",
    "\n",
    "plt.annotate('2008', xy=(1, 5750), xytext=(3, 3000),arrowprops=dict(facecolor='black', shrink=0.05))\n",
    "plt.annotate('2009', xy=(13, 5750), xytext=(13, 2000),arrowprops=dict(facecolor='black', shrink=0.05))\n",
    "plt.annotate('2010', xy=(25, 5750), xytext=(25, 2100),arrowprops=dict(facecolor='black', shrink=0.05))\n",
    "plt.annotate('2011', xy=(37, 5750), xytext=(37, 2000),arrowprops=dict(facecolor='black', shrink=0.05))\n",
    "plt.annotate('2012', xy=(49, 5750), xytext=(41, 3000),arrowprops=dict(facecolor='black', shrink=0.05))\n",
    "plt.scatter(allMonthArrests['index1'],allMonthArrests['ID'])"
   ]
  },
  {
   "cell_type": "code",
   "execution_count": 29,
   "metadata": {
    "scrolled": true
   },
   "outputs": [
    {
     "data": {
      "text/plain": [
       "[<matplotlib.lines.Line2D at 0x20e06d03048>]"
      ]
     },
     "execution_count": 29,
     "metadata": {},
     "output_type": "execute_result"
    },
    {
     "data": {
      "image/png": "[encoded data removed]",
      "text/plain": [
       "<Figure size 432x288 with 1 Axes>"
      ]
     },
     "metadata": {
      "needs_background": "light"
     },
     "output_type": "display_data"
    }
   ],
   "source": [
    "from sklearn.linear_model import LinearRegression\n",
    "model2 = LinearRegression()\n",
    "model2.fit(allMonthArrests['index1'][:,np.newaxis],allMonthArrests['ID'])\n",
    "xfit2 = np.linspace(0,60)\n",
    "yfit2 = model2.predict(xfit2[:,np.newaxis])\n",
    "\n",
    "plt.scatter(allMonthArrests['index1'],allMonthArrests['ID'])\n",
    "plt.xticks(np.arange(0,60,10))\n",
    "plt.title(\"Arrests Per Month\")\n",
    "plt.xlabel(\"Month\")\n",
    "plt.ylabel(\"Arrests\")\n",
    "plt.annotate('2008', xy=(1, 5200), xytext=(3, 3000),arrowprops=dict(facecolor='black', shrink=0.05))\n",
    "plt.annotate('2009', xy=(13, 5200), xytext=(13, 2000),arrowprops=dict(facecolor='black', shrink=0.05))\n",
    "plt.annotate('2010', xy=(25, 5200), xytext=(25, 2100),arrowprops=dict(facecolor='black', shrink=0.05))\n",
    "plt.annotate('2011', xy=(37, 5200), xytext=(37, 2000),arrowprops=dict(facecolor='black', shrink=0.05))\n",
    "plt.annotate('2012', xy=(49, 5200), xytext=(41, 3000),arrowprops=dict(facecolor='black', shrink=0.05))\n",
    "plt.plot(xfit2,yfit2)"
   ]
  },
  {
   "cell_type": "code",
   "execution_count": 30,
   "metadata": {},
   "outputs": [
    {
     "name": "stdout",
     "output_type": "stream",
     "text": [
      "lr.coef_: [[-263.73853492]]\n",
      "lr.intercept_: [21714.69820716]\n",
      "Training set score: 0.78\n",
      "Test set score: 0.72\n"
     ]
    }
   ],
   "source": [
    "from sklearn.model_selection import train_test_split\n",
    "\n",
    "X2 = allMonthArrests['index1'].values.reshape(-1,1)\n",
    "y2 = allMonthArrests['ID'].values.reshape(-1,1)\n",
    "\n",
    "X_train2, X_test2, y_train2, y_test2 = train_test_split(X2, y2, test_size=0.3, random_state=0)\n",
    "lr2 = LinearRegression()\n",
    "lr2.fit(X_train2, y_train2)\n",
    "\n",
    "print(\"lr.coef_:\", lr2.coef_)\n",
    "print(\"lr.intercept_:\", lr2.intercept_)\n",
    "\n",
    "print(\"Training set score: {:.2f}\".format(lr2.score(X_train2, y_train2)))\n",
    "print(\"Test set score: {:.2f}\".format(lr2.score(X_test2, y_test2)))\n"
   ]
  },
  {
   "cell_type": "code",
   "execution_count": 31,
   "metadata": {},
   "outputs": [
    {
     "name": "stdout",
     "output_type": "stream",
     "text": [
      "Model slope:  -260.77413170325104\n",
      "Model intercept:  21595.49435028249\n"
     ]
    }
   ],
   "source": [
    "print('Model slope: ', model2.coef_[0])\n",
    "print('Model intercept: ', model2.intercept_)"
   ]
  },
  {
   "cell_type": "markdown",
   "metadata": {},
   "source": [
    "<b>Model Evaluation</b>"
   ]
  },
  {
   "cell_type": "code",
   "execution_count": 32,
   "metadata": {},
   "outputs": [
    {
     "name": "stdout",
     "output_type": "stream",
     "text": [
      "Mean Absolute Error:  2273.821620287991\n",
      "Mean Squared Error:  7236164.244460577\n",
      "Root Mean Squared Error:  2690.011941323045\n"
     ]
    }
   ],
   "source": [
    "from sklearn import metrics\n",
    "y_predlr2 = lr2.predict(X_test2)\n",
    "print(\"Mean Absolute Error: \", metrics.mean_absolute_error(y_test2, y_predlr2))\n",
    "print(\"Mean Squared Error: \", metrics.mean_squared_error(y_test2, y_predlr2))\n",
    "print(\"Root Mean Squared Error: \", np.sqrt(metrics.mean_squared_error(y_test2, y_predlr2)))"
   ]
  },
  {
   "cell_type": "code",
   "execution_count": 33,
   "metadata": {},
   "outputs": [
    {
     "name": "stdout",
     "output_type": "stream",
     "text": [
      "R^2:  0.7214028948305319\n"
     ]
    }
   ],
   "source": [
    "from sklearn.metrics import r2_score\n",
    "print(\"R^2: \", r2_score(y_test2, y_predlr2))"
   ]
  },
  {
   "cell_type": "markdown",
   "metadata": {},
   "source": [
    "<h1>Initial Linear Regressions</h1>"
   ]
  },
  {
   "cell_type": "markdown",
   "metadata": {},
   "source": [
    "<h2>Crimes Per Year</h2>"
   ]
  },
  {
   "cell_type": "code",
   "execution_count": 34,
   "metadata": {},
   "outputs": [
    {
     "data": {
      "text/plain": [
       "<matplotlib.collections.PathCollection at 0x20e074cd080>"
      ]
     },
     "execution_count": 34,
     "metadata": {},
     "output_type": "execute_result"
    },
    {
     "data": {
      "image/png": "[encoded data removed]",
      "text/plain": [
       "<Figure size 432x288 with 1 Axes>"
      ]
     },
     "metadata": {
      "needs_background": "light"
     },
     "output_type": "display_data"
    }
   ],
   "source": [
    "filterYearCrimes = cleaned_crimes[(cleaned_crimes['Year'] > 2007) & (cleaned_crimes['Year'] < 2017)]\n",
    "filterYearCrimes = filterYearCrimes.groupby(['Year']).count()\n",
    "filterYearCrimes.reset_index(inplace=True)\n",
    "plt.title(\"Crimes Per Year\")\n",
    "plt.xlabel(\"Year\")\n",
    "plt.ylabel(\"Crimes\")\n",
    "plt.scatter(filterYearCrimes['Year'],filterYearCrimes['ID'])"
   ]
  },
  {
   "cell_type": "code",
   "execution_count": 35,
   "metadata": {},
   "outputs": [
    {
     "data": {
      "text/plain": [
       "[<matplotlib.lines.Line2D at 0x20dee1774e0>]"
      ]
     },
     "execution_count": 35,
     "metadata": {},
     "output_type": "execute_result"
    },
    {
     "data": {
      "image/png": "[encoded data removed]",
      "text/plain": [
       "<Figure size 432x288 with 1 Axes>"
      ]
     },
     "metadata": {
      "needs_background": "light"
     },
     "output_type": "display_data"
    }
   ],
   "source": [
    "model3 = LinearRegression()\n",
    "model3.fit(filterYearCrimes['Year'][:,np.newaxis],filterYearCrimes['ID'])\n",
    "xfit3 = np.linspace(2008,2017)\n",
    "yfit3 = model3.predict(xfit3[:,np.newaxis])\n",
    "\n",
    "plt.scatter(filterYearCrimes['Year'],filterYearCrimes['ID'])\n",
    "plt.xticks(np.arange(2008, 2017, 2))\n",
    "plt.title(\"Crimes Per Year\")\n",
    "plt.xlabel(\"Year\")\n",
    "plt.ylabel(\"Crimes\")\n",
    "plt.plot(xfit3,yfit3)"
   ]
  },
  {
   "cell_type": "code",
   "execution_count": 36,
   "metadata": {},
   "outputs": [
    {
     "name": "stdout",
     "output_type": "stream",
     "text": [
      "lr.coef_: [[-70665.17857143]]\n",
      "lr.intercept_: [[703962.60714287]]\n",
      "Training set score: 0.74\n",
      "Test set score: 0.72\n"
     ]
    }
   ],
   "source": [
    "X3 = filterYearCrimes['Year'].values.reshape(-1,1)\n",
    "y3 = filterYearCrimes['ID'].values.reshape(-1,1)\n",
    "\n",
    "X_train3, X_test3, y_train3, y_test3 = train_test_split(X3, y3, test_size=0.3, random_state=0)\n",
    "lr3 = LinearRegression()\n",
    "lr3.fit(X_train3, y_train3)\n",
    "\n",
    "print(\"lr.coef_:\", lr3.coef_)\n",
    "print(\"lr.intercept_:\", lr3.intercept_ + lr3.coef_ * 2008)\n",
    "\n",
    "print(\"Training set score: {:.2f}\".format(lr3.score(X_train3, y_train3)))\n",
    "print(\"Test set score: {:.2f}\".format(lr3.score(X_test3, y_test3)))"
   ]
  },
  {
   "cell_type": "code",
   "execution_count": 37,
   "metadata": {},
   "outputs": [
    {
     "name": "stdout",
     "output_type": "stream",
     "text": [
      "Model slope:  -80112.83333333334\n",
      "Model intercept:  779792.1111111343\n"
     ]
    }
   ],
   "source": [
    "print('Model slope: ', model3.coef_[0])\n",
    "print('Model intercept: ', model3.intercept_ + model3.coef_[0]*2008)"
   ]
  },
  {
   "cell_type": "markdown",
   "metadata": {},
   "source": [
    "<b>Model Evaluation</b>"
   ]
  },
  {
   "cell_type": "code",
   "execution_count": 38,
   "metadata": {},
   "outputs": [
    {
     "name": "stdout",
     "output_type": "stream",
     "text": [
      "Mean Absolute Error:  114116.65476189058\n",
      "Mean Squared Error:  14874607781.430624\n",
      "Root Mean Squared Error:  121961.50122653716\n"
     ]
    }
   ],
   "source": [
    "from sklearn import metrics\n",
    "y_predlr3 = lr3.predict(X_test3)\n",
    "print(\"Mean Absolute Error: \", metrics.mean_absolute_error(y_test3, y_predlr3))\n",
    "print(\"Mean Squared Error: \", metrics.mean_squared_error(y_test3, y_predlr3))\n",
    "print(\"Root Mean Squared Error: \", np.sqrt(metrics.mean_squared_error(y_test3, y_predlr3)))"
   ]
  },
  {
   "cell_type": "code",
   "execution_count": 39,
   "metadata": {},
   "outputs": [
    {
     "name": "stdout",
     "output_type": "stream",
     "text": [
      "R^2:  0.7150722375080956\n"
     ]
    }
   ],
   "source": [
    "from sklearn.metrics import r2_score\n",
    "print(\"R^2: \", r2_score(y_test3, y_predlr3))"
   ]
  },
  {
   "cell_type": "markdown",
   "metadata": {},
   "source": [
    "<h2>Arrests Per Year</h2>"
   ]
  },
  {
   "cell_type": "code",
   "execution_count": 40,
   "metadata": {},
   "outputs": [
    {
     "data": {
      "text/plain": [
       "<matplotlib.collections.PathCollection at 0x20e1475db00>"
      ]
     },
     "execution_count": 40,
     "metadata": {},
     "output_type": "execute_result"
    },
    {
     "data": {
      "image/png": "[encoded data removed]",
      "text/plain": [
       "<Figure size 432x288 with 1 Axes>"
      ]
     },
     "metadata": {
      "needs_background": "light"
     },
     "output_type": "display_data"
    }
   ],
   "source": [
    "filterYearArrests = cleaned_crimes[(cleaned_crimes['Arrest'] == True)\n",
    "                                   & (cleaned_crimes['Year'] > 2007) &\n",
    "                                   (cleaned_crimes['Year'] < 2017)]\n",
    "plt.title(\"Arrests Per Year\")\n",
    "plt.xlabel(\"Year\")\n",
    "plt.ylabel(\"Arrests\")\n",
    "filterYearArrests = filterYearArrests.groupby(['Year']).count()\n",
    "filterYearArrests.reset_index(inplace=True)\n",
    "plt.scatter(filterYearArrests['Year'],filterYearArrests['ID'])"
   ]
  },
  {
   "cell_type": "code",
   "execution_count": 41,
   "metadata": {},
   "outputs": [
    {
     "data": {
      "text/plain": [
       "[<matplotlib.lines.Line2D at 0x20e33873898>]"
      ]
     },
     "execution_count": 41,
     "metadata": {},
     "output_type": "execute_result"
    },
    {
     "data": {
      "image/png": "[encoded data removed]",
      "text/plain": [
       "<Figure size 432x288 with 1 Axes>"
      ]
     },
     "metadata": {
      "needs_background": "light"
     },
     "output_type": "display_data"
    }
   ],
   "source": [
    "model4 = LinearRegression()\n",
    "model4.fit(filterYearArrests['Year'][:,np.newaxis],filterYearArrests['ID'])\n",
    "xfit4 = np.linspace(2008,2017)\n",
    "yfit4 = model4.predict(xfit4[:,np.newaxis])\n",
    "\n",
    "plt.scatter(filterYearArrests['Year'],filterYearArrests['ID'])\n",
    "plt.xticks(np.arange(2008, 2017, 2))\n",
    "plt.title(\"Arrests Per Year\")\n",
    "plt.xlabel(\"Year\")\n",
    "plt.ylabel(\"Arrests\")\n",
    "plt.plot(xfit4,yfit4)"
   ]
  },
  {
   "cell_type": "code",
   "execution_count": 42,
   "metadata": {},
   "outputs": [
    {
     "name": "stdout",
     "output_type": "stream",
     "text": [
      "lr.coef_: [[-23293.93975904]]\n",
      "lr.intercept_: [[208797.95582329]]\n",
      "Training set score: 0.83\n",
      "Test set score: 0.84\n"
     ]
    }
   ],
   "source": [
    "X4 = filterYearArrests['Year'].values.reshape(-1,1)\n",
    "y4 = filterYearArrests['ID'].values.reshape(-1,1)\n",
    "\n",
    "X_train4, X_test4, y_train4, y_test4 = train_test_split(X4, y4, test_size=0.3, random_state=3)\n",
    "lr4 = LinearRegression()\n",
    "lr4.fit(X_train4, y_train4)\n",
    "\n",
    "print(\"lr.coef_:\", lr4.coef_)\n",
    "print(\"lr.intercept_:\", lr4.intercept_ + lr4.coef_ * 2008)\n",
    "\n",
    "print(\"Training set score: {:.2f}\".format(lr4.score(X_train4, y_train4)))\n",
    "print(\"Test set score: {:.2f}\".format(lr4.score(X_test4, y_test4)))"
   ]
  },
  {
   "cell_type": "code",
   "execution_count": 43,
   "metadata": {},
   "outputs": [
    {
     "name": "stdout",
     "output_type": "stream",
     "text": [
      "Model slope:  -22753.450000000008\n",
      "Model intercept:  213632.91111110896\n"
     ]
    }
   ],
   "source": [
    "print('Model slope: ', model4.coef_[0])\n",
    "print('Model intercept: ', model4.intercept_ + model4.coef_[0]*2008)"
   ]
  },
  {
   "cell_type": "markdown",
   "metadata": {},
   "source": [
    "<b>Model Evaluation</b>"
   ]
  },
  {
   "cell_type": "code",
   "execution_count": 44,
   "metadata": {},
   "outputs": [
    {
     "name": "stdout",
     "output_type": "stream",
     "text": [
      "Mean Absolute Error:  20990.74297189216\n",
      "Mean Squared Error:  506055111.78198284\n",
      "Root Mean Squared Error:  22495.668733824805\n"
     ]
    }
   ],
   "source": [
    "from sklearn import metrics\n",
    "y_predlr4 = lr4.predict(X_test4)\n",
    "print(\"Mean Absolute Error: \", metrics.mean_absolute_error(y_test4, y_predlr4))\n",
    "print(\"Mean Squared Error: \", metrics.mean_squared_error(y_test4, y_predlr4))\n",
    "print(\"Root Mean Squared Error: \", np.sqrt(metrics.mean_squared_error(y_test4, y_predlr4)))"
   ]
  },
  {
   "cell_type": "code",
   "execution_count": 45,
   "metadata": {},
   "outputs": [
    {
     "name": "stdout",
     "output_type": "stream",
     "text": [
      "R^2:  0.8352643102470608\n"
     ]
    }
   ],
   "source": [
    "from sklearn.metrics import r2_score\n",
    "print(\"R^2: \", r2_score(y_test4, y_predlr4))"
   ]
  }
 ],
 "metadata": {
  "kernelspec": {
   "display_name": "Python 3",
   "language": "python",
   "name": "python3"
  },
  "language_info": {
   "codemirror_mode": {
    "name": "ipython",
    "version": 3
   },
   "file_extension": ".py",
   "mimetype": "text/x-python",
   "name": "python",
   "nbconvert_exporter": "python",
   "pygments_lexer": "ipython3",
   "version": "3.7.3"
  }
 },
 "nbformat": 4,
 "nbformat_minor": 2
}
